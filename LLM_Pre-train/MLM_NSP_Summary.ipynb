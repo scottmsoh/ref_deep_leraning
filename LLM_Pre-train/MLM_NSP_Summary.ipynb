{
 "cells": [
  {
   "cell_type": "markdown",
   "id": "8abc02b6",
   "metadata": {},
   "source": [
    "## MLM and NSP summary"
   ]
  },
  {
   "cell_type": "markdown",
   "id": "c7ac307b",
   "metadata": {},
   "source": [
    "#### 1. Masked Language Modeling (MLM)\n",
    "MLM is a technique where a portion of the input tokens in a sentence are masked at random, and the model is trained to predict the original tokens based on the context provided by the remaining tokens. This helps the model to understand the relationship between words in a sentence from both directions (left and right).</br>\n",
    "\n",
    "* Why important?</br>\n",
    "MLM enables BERT to learn bidirectional representations by considering both the left and right context in all layers.</br>\n",
    "\n",
    "- Masking Tokens: During training, 15% of the tokens in each sequence are selected for masking. Out of these, 80% are replaced with the [MASK] token, 10% with a random token, and 10% remain unchanged.</br>\n",
    "</br>\n",
    "- Prediction Task: The model then attempts to predict the original tokens that were masked out, based on the context provided by the other tokens in the sequence.</br>\n",
    "</br>\n",
    "#### 2. Next Sentence Prediction (NSP)\n",
    "NSP is a binary classification task that helps BERT understand the relationship between two sentences. Specifically, it predicts whether a given sentence B follows sentence A in the original text.</br>\n",
    "\n",
    "* Why important?</br> \n",
    "NSP helps BERT to capture information about the relationships between sentences, which is crucial for tasks like question answering and natural language inference</br>\n",
    "\n",
    "- Sentence Pair Preparation: During training, the model receives pairs of sentences. In 50% of the cases, sentence B is the actual next sentence that follows sentence A (labeled as IsNext). In the other 50% of the cases, sentence B is a random sentence from the corpus (labeled as NotNext).</br>\n",
    "- Prediction Task: The model is trained to classify whether sentence B follows sentence A or not.</br>"
   ]
  },
  {
   "cell_type": "code",
   "execution_count": 2,
   "id": "cc5bad28",
   "metadata": {},
   "outputs": [],
   "source": [
    "from transformers import BertTokenizer, BertForPreTraining"
   ]
  },
  {
   "cell_type": "code",
   "execution_count": 3,
   "id": "aaeb51d2",
   "metadata": {},
   "outputs": [],
   "source": [
    "import torch"
   ]
  },
  {
   "cell_type": "code",
   "execution_count": 4,
   "id": "dd45acf8",
   "metadata": {},
   "outputs": [
    {
     "data": {
      "application/vnd.jupyter.widget-view+json": {
       "model_id": "5d753b318e8a4b16a3762aecf40651b3",
       "version_major": 2,
       "version_minor": 0
      },
      "text/plain": [
       "Downloading vocab.txt:   0%|          | 0.00/232k [00:00<?, ?B/s]"
      ]
     },
     "metadata": {},
     "output_type": "display_data"
    },
    {
     "data": {
      "application/vnd.jupyter.widget-view+json": {
       "model_id": "1493dab15efe4a9484fae5db5946a770",
       "version_major": 2,
       "version_minor": 0
      },
      "text/plain": [
       "Downloading tokenizer_config.json:   0%|          | 0.00/48.0 [00:00<?, ?B/s]"
      ]
     },
     "metadata": {},
     "output_type": "display_data"
    },
    {
     "data": {
      "application/vnd.jupyter.widget-view+json": {
       "model_id": "1a6a47c385bc47248c0891bc36340a40",
       "version_major": 2,
       "version_minor": 0
      },
      "text/plain": [
       "Downloading config.json:   0%|          | 0.00/570 [00:00<?, ?B/s]"
      ]
     },
     "metadata": {},
     "output_type": "display_data"
    },
    {
     "data": {
      "application/vnd.jupyter.widget-view+json": {
       "model_id": "c49de24426c24b029bb3233b328c0a4e",
       "version_major": 2,
       "version_minor": 0
      },
      "text/plain": [
       "Downloading pytorch_model.bin:   0%|          | 0.00/440M [00:00<?, ?B/s]"
      ]
     },
     "metadata": {},
     "output_type": "display_data"
    }
   ],
   "source": [
    "tokenizer = BertTokenizer.from_pretrained('bert-base-uncased')\n",
    "model = BertForPreTraining.from_pretrained('bert-base-uncased')"
   ]
  },
  {
   "cell_type": "code",
   "execution_count": 58,
   "id": "409b445a",
   "metadata": {},
   "outputs": [],
   "source": [
    "# tokenize a paragraph of text from the Wikipedia page on the American Civil War. \n",
    "text = (\"After Abraham Lincoln won the November 1860 presidential [MASK] on an \"\n",
    "        \"anti-slavery platform, an initial seven slave states declared their \"\n",
    "        \"secession from the country to form the Confederacy. War broke out in \"\n",
    "        \"April 1861 when secessionist forces [MASK] Fort Sumter in South \"\n",
    "        \"Carolina, just over a month after Lincoln's inauguration.\")"
   ]
  },
  {
   "cell_type": "code",
   "execution_count": 35,
   "id": "7c9b2cb2",
   "metadata": {},
   "outputs": [],
   "source": [
    "inputs = tokenizer(text, return_tensors='pt')"
   ]
  },
  {
   "cell_type": "code",
   "execution_count": 36,
   "id": "d6ba0792",
   "metadata": {},
   "outputs": [],
   "source": [
    "outputs = model(**inputs)"
   ]
  },
  {
   "cell_type": "code",
   "execution_count": 37,
   "id": "2b6758d3",
   "metadata": {},
   "outputs": [
    {
     "data": {
      "text/plain": [
       "odict_keys(['prediction_logits', 'seq_relationship_logits'])"
      ]
     },
     "execution_count": 37,
     "metadata": {},
     "output_type": "execute_result"
    }
   ],
   "source": [
    "outputs.keys()"
   ]
  },
  {
   "cell_type": "code",
   "execution_count": 38,
   "id": "a15b40a1",
   "metadata": {},
   "outputs": [
    {
     "data": {
      "text/plain": [
       "tensor([[[ -7.6192,  -7.5433,  -7.6124,  ...,  -6.7155,  -6.7375,  -4.6122],\n",
       "         [-12.5489, -12.3772, -12.6500,  ..., -11.8644, -11.4446,  -9.1151],\n",
       "         [ -6.2346,  -6.3590,  -5.9091,  ...,  -6.1258,  -6.2720,  -5.0268],\n",
       "         ...,\n",
       "         [ -2.2497,  -2.1352,  -2.1812,  ...,  -1.7201,  -1.2728,  -7.8301],\n",
       "         [-14.2654, -14.3100, -14.2294,  ..., -11.4669, -11.7212, -10.3129],\n",
       "         [-11.5071, -12.0389, -11.6046,  ..., -11.2875,  -9.1655,  -9.1732]]],\n",
       "       grad_fn=<ViewBackward0>)"
      ]
     },
     "execution_count": 38,
     "metadata": {},
     "output_type": "execute_result"
    }
   ],
   "source": [
    "outputs.prediction_logits"
   ]
  },
  {
   "cell_type": "code",
   "execution_count": 60,
   "id": "59a7bb08",
   "metadata": {},
   "outputs": [
    {
     "data": {
      "text/plain": [
       "torch.Size([1, 62, 30522])"
      ]
     },
     "execution_count": 60,
     "metadata": {},
     "output_type": "execute_result"
    }
   ],
   "source": [
    "# There are 62 tokens (60 + [CLS] and [SEP]), we can see this reflected \n",
    "# in the prediction_logits.shape:\n",
    "outputs.prediction_logits.shape"
   ]
  },
  {
   "cell_type": "code",
   "execution_count": 40,
   "id": "38a23bd9",
   "metadata": {},
   "outputs": [
    {
     "data": {
      "text/plain": [
       "torch.Size([1, 62])"
      ]
     },
     "execution_count": 40,
     "metadata": {},
     "output_type": "execute_result"
    }
   ],
   "source": [
    "inputs.input_ids.shape"
   ]
  },
  {
   "cell_type": "code",
   "execution_count": 41,
   "id": "d49d9f9c",
   "metadata": {},
   "outputs": [
    {
     "data": {
      "text/plain": [
       "tensor([[ 2.8257, -1.6897]], grad_fn=<AddmmBackward0>)"
      ]
     },
     "execution_count": 41,
     "metadata": {},
     "output_type": "execute_result"
    }
   ],
   "source": [
    "outputs.seq_relationship_logits"
   ]
  },
  {
   "cell_type": "markdown",
   "id": "55a6d2a0",
   "metadata": {},
   "source": [
    "## MLM"
   ]
  },
  {
   "cell_type": "markdown",
   "id": "f5653f4b",
   "metadata": {},
   "source": [
    "Convert our prediction_logits into token predictions.</br>\n",
    "To do this, we'll need to get a mapping between index values and words from the model</br> vocab, which we can extract from the tokenizer.</br>"
   ]
  },
  {
   "cell_type": "code",
   "execution_count": 42,
   "id": "daf83de6",
   "metadata": {},
   "outputs": [],
   "source": [
    "token2idx = tokenizer.get_vocab()"
   ]
  },
  {
   "cell_type": "code",
   "execution_count": 43,
   "id": "336fac64",
   "metadata": {
    "scrolled": true
   },
   "outputs": [
    {
     "data": {
      "text/plain": [
       "{'[PAD]': 0,\n",
       " '[unused0]': 1,\n",
       " '[unused1]': 2,\n",
       " '[unused2]': 3,\n",
       " '[unused3]': 4,\n",
       " '[unused4]': 5,\n",
       " '[unused5]': 6,\n",
       " '[unused6]': 7,\n",
       " '[unused7]': 8,\n",
       " '[unused8]': 9,\n",
       " '[unused9]': 10,\n",
       " '[unused10]': 11,\n",
       " '[unused11]': 12,\n",
       " '[unused12]': 13,\n",
       " '[unused13]': 14,\n",
       " '[unused14]': 15,\n",
       " '[unused15]': 16,\n",
       " '[unused16]': 17,\n",
       " '[unused17]': 18,\n",
       " '[unused18]': 19,\n",
       " '[unused19]': 20,\n",
       " '[unused20]': 21,\n",
       " '[unused21]': 22,\n",
       " '[unused22]': 23,\n",
       " '[unused23]': 24,\n",
       " '[unused24]': 25,\n",
       " '[unused25]': 26,\n",
       " '[unused26]': 27,\n",
       " '[unused27]': 28,\n",
       " '[unused28]': 29,\n",
       " '[unused29]': 30,\n",
       " '[unused30]': 31,\n",
       " '[unused31]': 32,\n",
       " '[unused32]': 33,\n",
       " '[unused33]': 34,\n",
       " '[unused34]': 35,\n",
       " '[unused35]': 36,\n",
       " '[unused36]': 37,\n",
       " '[unused37]': 38,\n",
       " '[unused38]': 39,\n",
       " '[unused39]': 40,\n",
       " '[unused40]': 41,\n",
       " '[unused41]': 42,\n",
       " '[unused42]': 43,\n",
       " '[unused43]': 44,\n",
       " '[unused44]': 45,\n",
       " '[unused45]': 46,\n",
       " '[unused46]': 47,\n",
       " '[unused47]': 48,\n",
       " '[unused48]': 49,\n",
       " '[unused49]': 50,\n",
       " '[unused50]': 51,\n",
       " '[unused51]': 52,\n",
       " '[unused52]': 53,\n",
       " '[unused53]': 54,\n",
       " '[unused54]': 55,\n",
       " '[unused55]': 56,\n",
       " '[unused56]': 57,\n",
       " '[unused57]': 58,\n",
       " '[unused58]': 59,\n",
       " '[unused59]': 60,\n",
       " '[unused60]': 61,\n",
       " '[unused61]': 62,\n",
       " '[unused62]': 63,\n",
       " '[unused63]': 64,\n",
       " '[unused64]': 65,\n",
       " '[unused65]': 66,\n",
       " '[unused66]': 67,\n",
       " '[unused67]': 68,\n",
       " '[unused68]': 69,\n",
       " '[unused69]': 70,\n",
       " '[unused70]': 71,\n",
       " '[unused71]': 72,\n",
       " '[unused72]': 73,\n",
       " '[unused73]': 74,\n",
       " '[unused74]': 75,\n",
       " '[unused75]': 76,\n",
       " '[unused76]': 77,\n",
       " '[unused77]': 78,\n",
       " '[unused78]': 79,\n",
       " '[unused79]': 80,\n",
       " '[unused80]': 81,\n",
       " '[unused81]': 82,\n",
       " '[unused82]': 83,\n",
       " '[unused83]': 84,\n",
       " '[unused84]': 85,\n",
       " '[unused85]': 86,\n",
       " '[unused86]': 87,\n",
       " '[unused87]': 88,\n",
       " '[unused88]': 89,\n",
       " '[unused89]': 90,\n",
       " '[unused90]': 91,\n",
       " '[unused91]': 92,\n",
       " '[unused92]': 93,\n",
       " '[unused93]': 94,\n",
       " '[unused94]': 95,\n",
       " '[unused95]': 96,\n",
       " '[unused96]': 97,\n",
       " '[unused97]': 98,\n",
       " '[unused98]': 99,\n",
       " '[UNK]': 100,\n",
       " '[CLS]': 101,\n",
       " '[SEP]': 102,\n",
       " '[MASK]': 103,\n",
       " '[unused99]': 104,\n",
       " '[unused100]': 105,\n",
       " '[unused101]': 106,\n",
       " '[unused102]': 107,\n",
       " '[unused103]': 108,\n",
       " '[unused104]': 109,\n",
       " '[unused105]': 110,\n",
       " '[unused106]': 111,\n",
       " '[unused107]': 112,\n",
       " '[unused108]': 113,\n",
       " '[unused109]': 114,\n",
       " '[unused110]': 115,\n",
       " '[unused111]': 116,\n",
       " '[unused112]': 117,\n",
       " '[unused113]': 118,\n",
       " '[unused114]': 119,\n",
       " '[unused115]': 120,\n",
       " '[unused116]': 121,\n",
       " '[unused117]': 122,\n",
       " '[unused118]': 123,\n",
       " '[unused119]': 124,\n",
       " '[unused120]': 125,\n",
       " '[unused121]': 126,\n",
       " '[unused122]': 127,\n",
       " '[unused123]': 128,\n",
       " '[unused124]': 129,\n",
       " '[unused125]': 130,\n",
       " '[unused126]': 131,\n",
       " '[unused127]': 132,\n",
       " '[unused128]': 133,\n",
       " '[unused129]': 134,\n",
       " '[unused130]': 135,\n",
       " '[unused131]': 136,\n",
       " '[unused132]': 137,\n",
       " '[unused133]': 138,\n",
       " '[unused134]': 139,\n",
       " '[unused135]': 140,\n",
       " '[unused136]': 141,\n",
       " '[unused137]': 142,\n",
       " '[unused138]': 143,\n",
       " '[unused139]': 144,\n",
       " '[unused140]': 145,\n",
       " '[unused141]': 146,\n",
       " '[unused142]': 147,\n",
       " '[unused143]': 148,\n",
       " '[unused144]': 149,\n",
       " '[unused145]': 150,\n",
       " '[unused146]': 151,\n",
       " '[unused147]': 152,\n",
       " '[unused148]': 153,\n",
       " '[unused149]': 154,\n",
       " '[unused150]': 155,\n",
       " '[unused151]': 156,\n",
       " '[unused152]': 157,\n",
       " '[unused153]': 158,\n",
       " '[unused154]': 159,\n",
       " '[unused155]': 160,\n",
       " '[unused156]': 161,\n",
       " '[unused157]': 162,\n",
       " '[unused158]': 163,\n",
       " '[unused159]': 164,\n",
       " '[unused160]': 165,\n",
       " '[unused161]': 166,\n",
       " '[unused162]': 167,\n",
       " '[unused163]': 168,\n",
       " '[unused164]': 169,\n",
       " '[unused165]': 170,\n",
       " '[unused166]': 171,\n",
       " '[unused167]': 172,\n",
       " '[unused168]': 173,\n",
       " '[unused169]': 174,\n",
       " '[unused170]': 175,\n",
       " '[unused171]': 176,\n",
       " '[unused172]': 177,\n",
       " '[unused173]': 178,\n",
       " '[unused174]': 179,\n",
       " '[unused175]': 180,\n",
       " '[unused176]': 181,\n",
       " '[unused177]': 182,\n",
       " '[unused178]': 183,\n",
       " '[unused179]': 184,\n",
       " '[unused180]': 185,\n",
       " '[unused181]': 186,\n",
       " '[unused182]': 187,\n",
       " '[unused183]': 188,\n",
       " '[unused184]': 189,\n",
       " '[unused185]': 190,\n",
       " '[unused186]': 191,\n",
       " '[unused187]': 192,\n",
       " '[unused188]': 193,\n",
       " '[unused189]': 194,\n",
       " '[unused190]': 195,\n",
       " '[unused191]': 196,\n",
       " '[unused192]': 197,\n",
       " '[unused193]': 198,\n",
       " '[unused194]': 199,\n",
       " '[unused195]': 200,\n",
       " '[unused196]': 201,\n",
       " '[unused197]': 202,\n",
       " '[unused198]': 203,\n",
       " '[unused199]': 204,\n",
       " '[unused200]': 205,\n",
       " '[unused201]': 206,\n",
       " '[unused202]': 207,\n",
       " '[unused203]': 208,\n",
       " '[unused204]': 209,\n",
       " '[unused205]': 210,\n",
       " '[unused206]': 211,\n",
       " '[unused207]': 212,\n",
       " '[unused208]': 213,\n",
       " '[unused209]': 214,\n",
       " '[unused210]': 215,\n",
       " '[unused211]': 216,\n",
       " '[unused212]': 217,\n",
       " '[unused213]': 218,\n",
       " '[unused214]': 219,\n",
       " '[unused215]': 220,\n",
       " '[unused216]': 221,\n",
       " '[unused217]': 222,\n",
       " '[unused218]': 223,\n",
       " '[unused219]': 224,\n",
       " '[unused220]': 225,\n",
       " '[unused221]': 226,\n",
       " '[unused222]': 227,\n",
       " '[unused223]': 228,\n",
       " '[unused224]': 229,\n",
       " '[unused225]': 230,\n",
       " '[unused226]': 231,\n",
       " '[unused227]': 232,\n",
       " '[unused228]': 233,\n",
       " '[unused229]': 234,\n",
       " '[unused230]': 235,\n",
       " '[unused231]': 236,\n",
       " '[unused232]': 237,\n",
       " '[unused233]': 238,\n",
       " '[unused234]': 239,\n",
       " '[unused235]': 240,\n",
       " '[unused236]': 241,\n",
       " '[unused237]': 242,\n",
       " '[unused238]': 243,\n",
       " '[unused239]': 244,\n",
       " '[unused240]': 245,\n",
       " '[unused241]': 246,\n",
       " '[unused242]': 247,\n",
       " '[unused243]': 248,\n",
       " '[unused244]': 249,\n",
       " '[unused245]': 250,\n",
       " '[unused246]': 251,\n",
       " '[unused247]': 252,\n",
       " '[unused248]': 253,\n",
       " '[unused249]': 254,\n",
       " '[unused250]': 255,\n",
       " '[unused251]': 256,\n",
       " '[unused252]': 257,\n",
       " '[unused253]': 258,\n",
       " '[unused254]': 259,\n",
       " '[unused255]': 260,\n",
       " '[unused256]': 261,\n",
       " '[unused257]': 262,\n",
       " '[unused258]': 263,\n",
       " '[unused259]': 264,\n",
       " '[unused260]': 265,\n",
       " '[unused261]': 266,\n",
       " '[unused262]': 267,\n",
       " '[unused263]': 268,\n",
       " '[unused264]': 269,\n",
       " '[unused265]': 270,\n",
       " '[unused266]': 271,\n",
       " '[unused267]': 272,\n",
       " '[unused268]': 273,\n",
       " '[unused269]': 274,\n",
       " '[unused270]': 275,\n",
       " '[unused271]': 276,\n",
       " '[unused272]': 277,\n",
       " '[unused273]': 278,\n",
       " '[unused274]': 279,\n",
       " '[unused275]': 280,\n",
       " '[unused276]': 281,\n",
       " '[unused277]': 282,\n",
       " '[unused278]': 283,\n",
       " '[unused279]': 284,\n",
       " '[unused280]': 285,\n",
       " '[unused281]': 286,\n",
       " '[unused282]': 287,\n",
       " '[unused283]': 288,\n",
       " '[unused284]': 289,\n",
       " '[unused285]': 290,\n",
       " '[unused286]': 291,\n",
       " '[unused287]': 292,\n",
       " '[unused288]': 293,\n",
       " '[unused289]': 294,\n",
       " '[unused290]': 295,\n",
       " '[unused291]': 296,\n",
       " '[unused292]': 297,\n",
       " '[unused293]': 298,\n",
       " '[unused294]': 299,\n",
       " '[unused295]': 300,\n",
       " '[unused296]': 301,\n",
       " '[unused297]': 302,\n",
       " '[unused298]': 303,\n",
       " '[unused299]': 304,\n",
       " '[unused300]': 305,\n",
       " '[unused301]': 306,\n",
       " '[unused302]': 307,\n",
       " '[unused303]': 308,\n",
       " '[unused304]': 309,\n",
       " '[unused305]': 310,\n",
       " '[unused306]': 311,\n",
       " '[unused307]': 312,\n",
       " '[unused308]': 313,\n",
       " '[unused309]': 314,\n",
       " '[unused310]': 315,\n",
       " '[unused311]': 316,\n",
       " '[unused312]': 317,\n",
       " '[unused313]': 318,\n",
       " '[unused314]': 319,\n",
       " '[unused315]': 320,\n",
       " '[unused316]': 321,\n",
       " '[unused317]': 322,\n",
       " '[unused318]': 323,\n",
       " '[unused319]': 324,\n",
       " '[unused320]': 325,\n",
       " '[unused321]': 326,\n",
       " '[unused322]': 327,\n",
       " '[unused323]': 328,\n",
       " '[unused324]': 329,\n",
       " '[unused325]': 330,\n",
       " '[unused326]': 331,\n",
       " '[unused327]': 332,\n",
       " '[unused328]': 333,\n",
       " '[unused329]': 334,\n",
       " '[unused330]': 335,\n",
       " '[unused331]': 336,\n",
       " '[unused332]': 337,\n",
       " '[unused333]': 338,\n",
       " '[unused334]': 339,\n",
       " '[unused335]': 340,\n",
       " '[unused336]': 341,\n",
       " '[unused337]': 342,\n",
       " '[unused338]': 343,\n",
       " '[unused339]': 344,\n",
       " '[unused340]': 345,\n",
       " '[unused341]': 346,\n",
       " '[unused342]': 347,\n",
       " '[unused343]': 348,\n",
       " '[unused344]': 349,\n",
       " '[unused345]': 350,\n",
       " '[unused346]': 351,\n",
       " '[unused347]': 352,\n",
       " '[unused348]': 353,\n",
       " '[unused349]': 354,\n",
       " '[unused350]': 355,\n",
       " '[unused351]': 356,\n",
       " '[unused352]': 357,\n",
       " '[unused353]': 358,\n",
       " '[unused354]': 359,\n",
       " '[unused355]': 360,\n",
       " '[unused356]': 361,\n",
       " '[unused357]': 362,\n",
       " '[unused358]': 363,\n",
       " '[unused359]': 364,\n",
       " '[unused360]': 365,\n",
       " '[unused361]': 366,\n",
       " '[unused362]': 367,\n",
       " '[unused363]': 368,\n",
       " '[unused364]': 369,\n",
       " '[unused365]': 370,\n",
       " '[unused366]': 371,\n",
       " '[unused367]': 372,\n",
       " '[unused368]': 373,\n",
       " '[unused369]': 374,\n",
       " '[unused370]': 375,\n",
       " '[unused371]': 376,\n",
       " '[unused372]': 377,\n",
       " '[unused373]': 378,\n",
       " '[unused374]': 379,\n",
       " '[unused375]': 380,\n",
       " '[unused376]': 381,\n",
       " '[unused377]': 382,\n",
       " '[unused378]': 383,\n",
       " '[unused379]': 384,\n",
       " '[unused380]': 385,\n",
       " '[unused381]': 386,\n",
       " '[unused382]': 387,\n",
       " '[unused383]': 388,\n",
       " '[unused384]': 389,\n",
       " '[unused385]': 390,\n",
       " '[unused386]': 391,\n",
       " '[unused387]': 392,\n",
       " '[unused388]': 393,\n",
       " '[unused389]': 394,\n",
       " '[unused390]': 395,\n",
       " '[unused391]': 396,\n",
       " '[unused392]': 397,\n",
       " '[unused393]': 398,\n",
       " '[unused394]': 399,\n",
       " '[unused395]': 400,\n",
       " '[unused396]': 401,\n",
       " '[unused397]': 402,\n",
       " '[unused398]': 403,\n",
       " '[unused399]': 404,\n",
       " '[unused400]': 405,\n",
       " '[unused401]': 406,\n",
       " '[unused402]': 407,\n",
       " '[unused403]': 408,\n",
       " '[unused404]': 409,\n",
       " '[unused405]': 410,\n",
       " '[unused406]': 411,\n",
       " '[unused407]': 412,\n",
       " '[unused408]': 413,\n",
       " '[unused409]': 414,\n",
       " '[unused410]': 415,\n",
       " '[unused411]': 416,\n",
       " '[unused412]': 417,\n",
       " '[unused413]': 418,\n",
       " '[unused414]': 419,\n",
       " '[unused415]': 420,\n",
       " '[unused416]': 421,\n",
       " '[unused417]': 422,\n",
       " '[unused418]': 423,\n",
       " '[unused419]': 424,\n",
       " '[unused420]': 425,\n",
       " '[unused421]': 426,\n",
       " '[unused422]': 427,\n",
       " '[unused423]': 428,\n",
       " '[unused424]': 429,\n",
       " '[unused425]': 430,\n",
       " '[unused426]': 431,\n",
       " '[unused427]': 432,\n",
       " '[unused428]': 433,\n",
       " '[unused429]': 434,\n",
       " '[unused430]': 435,\n",
       " '[unused431]': 436,\n",
       " '[unused432]': 437,\n",
       " '[unused433]': 438,\n",
       " '[unused434]': 439,\n",
       " '[unused435]': 440,\n",
       " '[unused436]': 441,\n",
       " '[unused437]': 442,\n",
       " '[unused438]': 443,\n",
       " '[unused439]': 444,\n",
       " '[unused440]': 445,\n",
       " '[unused441]': 446,\n",
       " '[unused442]': 447,\n",
       " '[unused443]': 448,\n",
       " '[unused444]': 449,\n",
       " '[unused445]': 450,\n",
       " '[unused446]': 451,\n",
       " '[unused447]': 452,\n",
       " '[unused448]': 453,\n",
       " '[unused449]': 454,\n",
       " '[unused450]': 455,\n",
       " '[unused451]': 456,\n",
       " '[unused452]': 457,\n",
       " '[unused453]': 458,\n",
       " '[unused454]': 459,\n",
       " '[unused455]': 460,\n",
       " '[unused456]': 461,\n",
       " '[unused457]': 462,\n",
       " '[unused458]': 463,\n",
       " '[unused459]': 464,\n",
       " '[unused460]': 465,\n",
       " '[unused461]': 466,\n",
       " '[unused462]': 467,\n",
       " '[unused463]': 468,\n",
       " '[unused464]': 469,\n",
       " '[unused465]': 470,\n",
       " '[unused466]': 471,\n",
       " '[unused467]': 472,\n",
       " '[unused468]': 473,\n",
       " '[unused469]': 474,\n",
       " '[unused470]': 475,\n",
       " '[unused471]': 476,\n",
       " '[unused472]': 477,\n",
       " '[unused473]': 478,\n",
       " '[unused474]': 479,\n",
       " '[unused475]': 480,\n",
       " '[unused476]': 481,\n",
       " '[unused477]': 482,\n",
       " '[unused478]': 483,\n",
       " '[unused479]': 484,\n",
       " '[unused480]': 485,\n",
       " '[unused481]': 486,\n",
       " '[unused482]': 487,\n",
       " '[unused483]': 488,\n",
       " '[unused484]': 489,\n",
       " '[unused485]': 490,\n",
       " '[unused486]': 491,\n",
       " '[unused487]': 492,\n",
       " '[unused488]': 493,\n",
       " '[unused489]': 494,\n",
       " '[unused490]': 495,\n",
       " '[unused491]': 496,\n",
       " '[unused492]': 497,\n",
       " '[unused493]': 498,\n",
       " '[unused494]': 499,\n",
       " '[unused495]': 500,\n",
       " '[unused496]': 501,\n",
       " '[unused497]': 502,\n",
       " '[unused498]': 503,\n",
       " '[unused499]': 504,\n",
       " '[unused500]': 505,\n",
       " '[unused501]': 506,\n",
       " '[unused502]': 507,\n",
       " '[unused503]': 508,\n",
       " '[unused504]': 509,\n",
       " '[unused505]': 510,\n",
       " '[unused506]': 511,\n",
       " '[unused507]': 512,\n",
       " '[unused508]': 513,\n",
       " '[unused509]': 514,\n",
       " '[unused510]': 515,\n",
       " '[unused511]': 516,\n",
       " '[unused512]': 517,\n",
       " '[unused513]': 518,\n",
       " '[unused514]': 519,\n",
       " '[unused515]': 520,\n",
       " '[unused516]': 521,\n",
       " '[unused517]': 522,\n",
       " '[unused518]': 523,\n",
       " '[unused519]': 524,\n",
       " '[unused520]': 525,\n",
       " '[unused521]': 526,\n",
       " '[unused522]': 527,\n",
       " '[unused523]': 528,\n",
       " '[unused524]': 529,\n",
       " '[unused525]': 530,\n",
       " '[unused526]': 531,\n",
       " '[unused527]': 532,\n",
       " '[unused528]': 533,\n",
       " '[unused529]': 534,\n",
       " '[unused530]': 535,\n",
       " '[unused531]': 536,\n",
       " '[unused532]': 537,\n",
       " '[unused533]': 538,\n",
       " '[unused534]': 539,\n",
       " '[unused535]': 540,\n",
       " '[unused536]': 541,\n",
       " '[unused537]': 542,\n",
       " '[unused538]': 543,\n",
       " '[unused539]': 544,\n",
       " '[unused540]': 545,\n",
       " '[unused541]': 546,\n",
       " '[unused542]': 547,\n",
       " '[unused543]': 548,\n",
       " '[unused544]': 549,\n",
       " '[unused545]': 550,\n",
       " '[unused546]': 551,\n",
       " '[unused547]': 552,\n",
       " '[unused548]': 553,\n",
       " '[unused549]': 554,\n",
       " '[unused550]': 555,\n",
       " '[unused551]': 556,\n",
       " '[unused552]': 557,\n",
       " '[unused553]': 558,\n",
       " '[unused554]': 559,\n",
       " '[unused555]': 560,\n",
       " '[unused556]': 561,\n",
       " '[unused557]': 562,\n",
       " '[unused558]': 563,\n",
       " '[unused559]': 564,\n",
       " '[unused560]': 565,\n",
       " '[unused561]': 566,\n",
       " '[unused562]': 567,\n",
       " '[unused563]': 568,\n",
       " '[unused564]': 569,\n",
       " '[unused565]': 570,\n",
       " '[unused566]': 571,\n",
       " '[unused567]': 572,\n",
       " '[unused568]': 573,\n",
       " '[unused569]': 574,\n",
       " '[unused570]': 575,\n",
       " '[unused571]': 576,\n",
       " '[unused572]': 577,\n",
       " '[unused573]': 578,\n",
       " '[unused574]': 579,\n",
       " '[unused575]': 580,\n",
       " '[unused576]': 581,\n",
       " '[unused577]': 582,\n",
       " '[unused578]': 583,\n",
       " '[unused579]': 584,\n",
       " '[unused580]': 585,\n",
       " '[unused581]': 586,\n",
       " '[unused582]': 587,\n",
       " '[unused583]': 588,\n",
       " '[unused584]': 589,\n",
       " '[unused585]': 590,\n",
       " '[unused586]': 591,\n",
       " '[unused587]': 592,\n",
       " '[unused588]': 593,\n",
       " '[unused589]': 594,\n",
       " '[unused590]': 595,\n",
       " '[unused591]': 596,\n",
       " '[unused592]': 597,\n",
       " '[unused593]': 598,\n",
       " '[unused594]': 599,\n",
       " '[unused595]': 600,\n",
       " '[unused596]': 601,\n",
       " '[unused597]': 602,\n",
       " '[unused598]': 603,\n",
       " '[unused599]': 604,\n",
       " '[unused600]': 605,\n",
       " '[unused601]': 606,\n",
       " '[unused602]': 607,\n",
       " '[unused603]': 608,\n",
       " '[unused604]': 609,\n",
       " '[unused605]': 610,\n",
       " '[unused606]': 611,\n",
       " '[unused607]': 612,\n",
       " '[unused608]': 613,\n",
       " '[unused609]': 614,\n",
       " '[unused610]': 615,\n",
       " '[unused611]': 616,\n",
       " '[unused612]': 617,\n",
       " '[unused613]': 618,\n",
       " '[unused614]': 619,\n",
       " '[unused615]': 620,\n",
       " '[unused616]': 621,\n",
       " '[unused617]': 622,\n",
       " '[unused618]': 623,\n",
       " '[unused619]': 624,\n",
       " '[unused620]': 625,\n",
       " '[unused621]': 626,\n",
       " '[unused622]': 627,\n",
       " '[unused623]': 628,\n",
       " '[unused624]': 629,\n",
       " '[unused625]': 630,\n",
       " '[unused626]': 631,\n",
       " '[unused627]': 632,\n",
       " '[unused628]': 633,\n",
       " '[unused629]': 634,\n",
       " '[unused630]': 635,\n",
       " '[unused631]': 636,\n",
       " '[unused632]': 637,\n",
       " '[unused633]': 638,\n",
       " '[unused634]': 639,\n",
       " '[unused635]': 640,\n",
       " '[unused636]': 641,\n",
       " '[unused637]': 642,\n",
       " '[unused638]': 643,\n",
       " '[unused639]': 644,\n",
       " '[unused640]': 645,\n",
       " '[unused641]': 646,\n",
       " '[unused642]': 647,\n",
       " '[unused643]': 648,\n",
       " '[unused644]': 649,\n",
       " '[unused645]': 650,\n",
       " '[unused646]': 651,\n",
       " '[unused647]': 652,\n",
       " '[unused648]': 653,\n",
       " '[unused649]': 654,\n",
       " '[unused650]': 655,\n",
       " '[unused651]': 656,\n",
       " '[unused652]': 657,\n",
       " '[unused653]': 658,\n",
       " '[unused654]': 659,\n",
       " '[unused655]': 660,\n",
       " '[unused656]': 661,\n",
       " '[unused657]': 662,\n",
       " '[unused658]': 663,\n",
       " '[unused659]': 664,\n",
       " '[unused660]': 665,\n",
       " '[unused661]': 666,\n",
       " '[unused662]': 667,\n",
       " '[unused663]': 668,\n",
       " '[unused664]': 669,\n",
       " '[unused665]': 670,\n",
       " '[unused666]': 671,\n",
       " '[unused667]': 672,\n",
       " '[unused668]': 673,\n",
       " '[unused669]': 674,\n",
       " '[unused670]': 675,\n",
       " '[unused671]': 676,\n",
       " '[unused672]': 677,\n",
       " '[unused673]': 678,\n",
       " '[unused674]': 679,\n",
       " '[unused675]': 680,\n",
       " '[unused676]': 681,\n",
       " '[unused677]': 682,\n",
       " '[unused678]': 683,\n",
       " '[unused679]': 684,\n",
       " '[unused680]': 685,\n",
       " '[unused681]': 686,\n",
       " '[unused682]': 687,\n",
       " '[unused683]': 688,\n",
       " '[unused684]': 689,\n",
       " '[unused685]': 690,\n",
       " '[unused686]': 691,\n",
       " '[unused687]': 692,\n",
       " '[unused688]': 693,\n",
       " '[unused689]': 694,\n",
       " '[unused690]': 695,\n",
       " '[unused691]': 696,\n",
       " '[unused692]': 697,\n",
       " '[unused693]': 698,\n",
       " '[unused694]': 699,\n",
       " '[unused695]': 700,\n",
       " '[unused696]': 701,\n",
       " '[unused697]': 702,\n",
       " '[unused698]': 703,\n",
       " '[unused699]': 704,\n",
       " '[unused700]': 705,\n",
       " '[unused701]': 706,\n",
       " '[unused702]': 707,\n",
       " '[unused703]': 708,\n",
       " '[unused704]': 709,\n",
       " '[unused705]': 710,\n",
       " '[unused706]': 711,\n",
       " '[unused707]': 712,\n",
       " '[unused708]': 713,\n",
       " '[unused709]': 714,\n",
       " '[unused710]': 715,\n",
       " '[unused711]': 716,\n",
       " '[unused712]': 717,\n",
       " '[unused713]': 718,\n",
       " '[unused714]': 719,\n",
       " '[unused715]': 720,\n",
       " '[unused716]': 721,\n",
       " '[unused717]': 722,\n",
       " '[unused718]': 723,\n",
       " '[unused719]': 724,\n",
       " '[unused720]': 725,\n",
       " '[unused721]': 726,\n",
       " '[unused722]': 727,\n",
       " '[unused723]': 728,\n",
       " '[unused724]': 729,\n",
       " '[unused725]': 730,\n",
       " '[unused726]': 731,\n",
       " '[unused727]': 732,\n",
       " '[unused728]': 733,\n",
       " '[unused729]': 734,\n",
       " '[unused730]': 735,\n",
       " '[unused731]': 736,\n",
       " '[unused732]': 737,\n",
       " '[unused733]': 738,\n",
       " '[unused734]': 739,\n",
       " '[unused735]': 740,\n",
       " '[unused736]': 741,\n",
       " '[unused737]': 742,\n",
       " '[unused738]': 743,\n",
       " '[unused739]': 744,\n",
       " '[unused740]': 745,\n",
       " '[unused741]': 746,\n",
       " '[unused742]': 747,\n",
       " '[unused743]': 748,\n",
       " '[unused744]': 749,\n",
       " '[unused745]': 750,\n",
       " '[unused746]': 751,\n",
       " '[unused747]': 752,\n",
       " '[unused748]': 753,\n",
       " '[unused749]': 754,\n",
       " '[unused750]': 755,\n",
       " '[unused751]': 756,\n",
       " '[unused752]': 757,\n",
       " '[unused753]': 758,\n",
       " '[unused754]': 759,\n",
       " '[unused755]': 760,\n",
       " '[unused756]': 761,\n",
       " '[unused757]': 762,\n",
       " '[unused758]': 763,\n",
       " '[unused759]': 764,\n",
       " '[unused760]': 765,\n",
       " '[unused761]': 766,\n",
       " '[unused762]': 767,\n",
       " '[unused763]': 768,\n",
       " '[unused764]': 769,\n",
       " '[unused765]': 770,\n",
       " '[unused766]': 771,\n",
       " '[unused767]': 772,\n",
       " '[unused768]': 773,\n",
       " '[unused769]': 774,\n",
       " '[unused770]': 775,\n",
       " '[unused771]': 776,\n",
       " '[unused772]': 777,\n",
       " '[unused773]': 778,\n",
       " '[unused774]': 779,\n",
       " '[unused775]': 780,\n",
       " '[unused776]': 781,\n",
       " '[unused777]': 782,\n",
       " '[unused778]': 783,\n",
       " '[unused779]': 784,\n",
       " '[unused780]': 785,\n",
       " '[unused781]': 786,\n",
       " '[unused782]': 787,\n",
       " '[unused783]': 788,\n",
       " '[unused784]': 789,\n",
       " '[unused785]': 790,\n",
       " '[unused786]': 791,\n",
       " '[unused787]': 792,\n",
       " '[unused788]': 793,\n",
       " '[unused789]': 794,\n",
       " '[unused790]': 795,\n",
       " '[unused791]': 796,\n",
       " '[unused792]': 797,\n",
       " '[unused793]': 798,\n",
       " '[unused794]': 799,\n",
       " '[unused795]': 800,\n",
       " '[unused796]': 801,\n",
       " '[unused797]': 802,\n",
       " '[unused798]': 803,\n",
       " '[unused799]': 804,\n",
       " '[unused800]': 805,\n",
       " '[unused801]': 806,\n",
       " '[unused802]': 807,\n",
       " '[unused803]': 808,\n",
       " '[unused804]': 809,\n",
       " '[unused805]': 810,\n",
       " '[unused806]': 811,\n",
       " '[unused807]': 812,\n",
       " '[unused808]': 813,\n",
       " '[unused809]': 814,\n",
       " '[unused810]': 815,\n",
       " '[unused811]': 816,\n",
       " '[unused812]': 817,\n",
       " '[unused813]': 818,\n",
       " '[unused814]': 819,\n",
       " '[unused815]': 820,\n",
       " '[unused816]': 821,\n",
       " '[unused817]': 822,\n",
       " '[unused818]': 823,\n",
       " '[unused819]': 824,\n",
       " '[unused820]': 825,\n",
       " '[unused821]': 826,\n",
       " '[unused822]': 827,\n",
       " '[unused823]': 828,\n",
       " '[unused824]': 829,\n",
       " '[unused825]': 830,\n",
       " '[unused826]': 831,\n",
       " '[unused827]': 832,\n",
       " '[unused828]': 833,\n",
       " '[unused829]': 834,\n",
       " '[unused830]': 835,\n",
       " '[unused831]': 836,\n",
       " '[unused832]': 837,\n",
       " '[unused833]': 838,\n",
       " '[unused834]': 839,\n",
       " '[unused835]': 840,\n",
       " '[unused836]': 841,\n",
       " '[unused837]': 842,\n",
       " '[unused838]': 843,\n",
       " '[unused839]': 844,\n",
       " '[unused840]': 845,\n",
       " '[unused841]': 846,\n",
       " '[unused842]': 847,\n",
       " '[unused843]': 848,\n",
       " '[unused844]': 849,\n",
       " '[unused845]': 850,\n",
       " '[unused846]': 851,\n",
       " '[unused847]': 852,\n",
       " '[unused848]': 853,\n",
       " '[unused849]': 854,\n",
       " '[unused850]': 855,\n",
       " '[unused851]': 856,\n",
       " '[unused852]': 857,\n",
       " '[unused853]': 858,\n",
       " '[unused854]': 859,\n",
       " '[unused855]': 860,\n",
       " '[unused856]': 861,\n",
       " '[unused857]': 862,\n",
       " '[unused858]': 863,\n",
       " '[unused859]': 864,\n",
       " '[unused860]': 865,\n",
       " '[unused861]': 866,\n",
       " '[unused862]': 867,\n",
       " '[unused863]': 868,\n",
       " '[unused864]': 869,\n",
       " '[unused865]': 870,\n",
       " '[unused866]': 871,\n",
       " '[unused867]': 872,\n",
       " '[unused868]': 873,\n",
       " '[unused869]': 874,\n",
       " '[unused870]': 875,\n",
       " '[unused871]': 876,\n",
       " '[unused872]': 877,\n",
       " '[unused873]': 878,\n",
       " '[unused874]': 879,\n",
       " '[unused875]': 880,\n",
       " '[unused876]': 881,\n",
       " '[unused877]': 882,\n",
       " '[unused878]': 883,\n",
       " '[unused879]': 884,\n",
       " '[unused880]': 885,\n",
       " '[unused881]': 886,\n",
       " '[unused882]': 887,\n",
       " '[unused883]': 888,\n",
       " '[unused884]': 889,\n",
       " '[unused885]': 890,\n",
       " '[unused886]': 891,\n",
       " '[unused887]': 892,\n",
       " '[unused888]': 893,\n",
       " '[unused889]': 894,\n",
       " '[unused890]': 895,\n",
       " '[unused891]': 896,\n",
       " '[unused892]': 897,\n",
       " '[unused893]': 898,\n",
       " '[unused894]': 899,\n",
       " '[unused895]': 900,\n",
       " '[unused896]': 901,\n",
       " '[unused897]': 902,\n",
       " '[unused898]': 903,\n",
       " '[unused899]': 904,\n",
       " '[unused900]': 905,\n",
       " '[unused901]': 906,\n",
       " '[unused902]': 907,\n",
       " '[unused903]': 908,\n",
       " '[unused904]': 909,\n",
       " '[unused905]': 910,\n",
       " '[unused906]': 911,\n",
       " '[unused907]': 912,\n",
       " '[unused908]': 913,\n",
       " '[unused909]': 914,\n",
       " '[unused910]': 915,\n",
       " '[unused911]': 916,\n",
       " '[unused912]': 917,\n",
       " '[unused913]': 918,\n",
       " '[unused914]': 919,\n",
       " '[unused915]': 920,\n",
       " '[unused916]': 921,\n",
       " '[unused917]': 922,\n",
       " '[unused918]': 923,\n",
       " '[unused919]': 924,\n",
       " '[unused920]': 925,\n",
       " '[unused921]': 926,\n",
       " '[unused922]': 927,\n",
       " '[unused923]': 928,\n",
       " '[unused924]': 929,\n",
       " '[unused925]': 930,\n",
       " '[unused926]': 931,\n",
       " '[unused927]': 932,\n",
       " '[unused928]': 933,\n",
       " '[unused929]': 934,\n",
       " '[unused930]': 935,\n",
       " '[unused931]': 936,\n",
       " '[unused932]': 937,\n",
       " '[unused933]': 938,\n",
       " '[unused934]': 939,\n",
       " '[unused935]': 940,\n",
       " '[unused936]': 941,\n",
       " '[unused937]': 942,\n",
       " '[unused938]': 943,\n",
       " '[unused939]': 944,\n",
       " '[unused940]': 945,\n",
       " '[unused941]': 946,\n",
       " '[unused942]': 947,\n",
       " '[unused943]': 948,\n",
       " '[unused944]': 949,\n",
       " '[unused945]': 950,\n",
       " '[unused946]': 951,\n",
       " '[unused947]': 952,\n",
       " '[unused948]': 953,\n",
       " '[unused949]': 954,\n",
       " '[unused950]': 955,\n",
       " '[unused951]': 956,\n",
       " '[unused952]': 957,\n",
       " '[unused953]': 958,\n",
       " '[unused954]': 959,\n",
       " '[unused955]': 960,\n",
       " '[unused956]': 961,\n",
       " '[unused957]': 962,\n",
       " '[unused958]': 963,\n",
       " '[unused959]': 964,\n",
       " '[unused960]': 965,\n",
       " '[unused961]': 966,\n",
       " '[unused962]': 967,\n",
       " '[unused963]': 968,\n",
       " '[unused964]': 969,\n",
       " '[unused965]': 970,\n",
       " '[unused966]': 971,\n",
       " '[unused967]': 972,\n",
       " '[unused968]': 973,\n",
       " '[unused969]': 974,\n",
       " '[unused970]': 975,\n",
       " '[unused971]': 976,\n",
       " '[unused972]': 977,\n",
       " '[unused973]': 978,\n",
       " '[unused974]': 979,\n",
       " '[unused975]': 980,\n",
       " '[unused976]': 981,\n",
       " '[unused977]': 982,\n",
       " '[unused978]': 983,\n",
       " '[unused979]': 984,\n",
       " '[unused980]': 985,\n",
       " '[unused981]': 986,\n",
       " '[unused982]': 987,\n",
       " '[unused983]': 988,\n",
       " '[unused984]': 989,\n",
       " '[unused985]': 990,\n",
       " '[unused986]': 991,\n",
       " '[unused987]': 992,\n",
       " '[unused988]': 993,\n",
       " '[unused989]': 994,\n",
       " '[unused990]': 995,\n",
       " '[unused991]': 996,\n",
       " '[unused992]': 997,\n",
       " '[unused993]': 998,\n",
       " '!': 999,\n",
       " ...}"
      ]
     },
     "execution_count": 43,
     "metadata": {},
     "output_type": "execute_result"
    }
   ],
   "source": [
    "token2idx"
   ]
  },
  {
   "cell_type": "code",
   "execution_count": 44,
   "id": "8bb494a3",
   "metadata": {},
   "outputs": [
    {
     "data": {
      "text/plain": [
       "7592"
      ]
     },
     "execution_count": 44,
     "metadata": {},
     "output_type": "execute_result"
    }
   ],
   "source": [
    "token2idx['hello']"
   ]
  },
  {
   "cell_type": "code",
   "execution_count": 45,
   "id": "9b9d309b",
   "metadata": {},
   "outputs": [],
   "source": [
    "idx2token = {value:key for key, value in token2idx.items()}"
   ]
  },
  {
   "cell_type": "code",
   "execution_count": 46,
   "id": "f6cec144",
   "metadata": {},
   "outputs": [
    {
     "data": {
      "text/plain": [
       "'hello'"
      ]
     },
     "execution_count": 46,
     "metadata": {},
     "output_type": "execute_result"
    }
   ],
   "source": [
    "idx2token[7592]"
   ]
  },
  {
   "cell_type": "code",
   "execution_count": 47,
   "id": "64349163",
   "metadata": {},
   "outputs": [
    {
     "data": {
      "text/plain": [
       "torch.Size([30522])"
      ]
     },
     "execution_count": 47,
     "metadata": {},
     "output_type": "execute_result"
    }
   ],
   "source": [
    "outputs.prediction_logits[0][2].shape"
   ]
  },
  {
   "cell_type": "code",
   "execution_count": 48,
   "id": "df9b6725",
   "metadata": {
    "scrolled": true
   },
   "outputs": [
    {
     "data": {
      "text/plain": [
       "30522"
      ]
     },
     "execution_count": 48,
     "metadata": {},
     "output_type": "execute_result"
    }
   ],
   "source": [
    "len(token2idx)"
   ]
  },
  {
   "cell_type": "markdown",
   "id": "f8f2847b",
   "metadata": {},
   "source": [
    "Now all we need to do is take the softmax to get a probability distribution across the 30522 tokens, and extract the most probable using an argmax function:"
   ]
  },
  {
   "cell_type": "code",
   "execution_count": 49,
   "id": "555cf0c8",
   "metadata": {},
   "outputs": [],
   "source": [
    "softmax = torch.nn.functional.softmax(outputs.prediction_logits[0][2], dim=-1)"
   ]
  },
  {
   "cell_type": "code",
   "execution_count": 50,
   "id": "dd073512",
   "metadata": {},
   "outputs": [],
   "source": [
    "argmax = torch.argmax(softmax)"
   ]
  },
  {
   "cell_type": "code",
   "execution_count": 51,
   "id": "76710924",
   "metadata": {},
   "outputs": [
    {
     "data": {
      "text/plain": [
       "'abraham'"
      ]
     },
     "execution_count": 51,
     "metadata": {},
     "output_type": "execute_result"
    }
   ],
   "source": [
    "idx2token[argmax.item()]"
   ]
  },
  {
   "cell_type": "code",
   "execution_count": 52,
   "id": "841e25af",
   "metadata": {},
   "outputs": [],
   "source": [
    "softmax = torch.nn.functional.softmax(outputs.prediction_logits[0], dim=0)\n",
    "argmax = torch.argmax(softmax, dim=1)"
   ]
  },
  {
   "cell_type": "code",
   "execution_count": 53,
   "id": "c12e169b",
   "metadata": {},
   "outputs": [
    {
     "data": {
      "text/plain": [
       "tensor([28191,  2348,  8181, 16628,  2180,  3882,  2281,  7313,  4883, 27419,\n",
       "         2006,  2010,  3424,  1011,  8864,  4132,  1010,  2019,  3988,  2698,\n",
       "         8914,  2163, 13520,  2037,  4336,  2013,  1996,  2406,  2000,  2433,\n",
       "        28775, 18179, 16363,  2162,  3631,  2041,  1999,  2258,  6863,  2043,\n",
       "        18232,  2923,  2749,  4548,  3481,  7680,  5017,  2005,  2148,  3792,\n",
       "        24901,  2074,  2058,  1037,  3204,  2077,  3946,  1005,  1055, 17331,\n",
       "         1025, 25656])"
      ]
     },
     "execution_count": 53,
     "metadata": {},
     "output_type": "execute_result"
    }
   ],
   "source": [
    "argmax"
   ]
  },
  {
   "cell_type": "code",
   "execution_count": 54,
   "id": "836e03c5",
   "metadata": {},
   "outputs": [
    {
     "data": {
      "text/plain": [
       "torch.Size([62])"
      ]
     },
     "execution_count": 54,
     "metadata": {},
     "output_type": "execute_result"
    }
   ],
   "source": [
    "argmax.shape"
   ]
  },
  {
   "cell_type": "code",
   "execution_count": 55,
   "id": "351feff6",
   "metadata": {},
   "outputs": [
    {
     "name": "stdout",
     "output_type": "stream",
     "text": [
      "##ecin although abraham lincolnshire won 1948 november 1860 presidential primaries on his anti - slavery platform , an initial seven tributary states declare their independence from the country to form ##ici confederacy ##yre war broke out in april 1861 when ##oya ##ist forces occupied fort sum ##mer for south carolina ##trip just over a month before grant ' s inauguration ; ##tson "
     ]
    }
   ],
   "source": [
    "for idx in argmax:\n",
    "    print(idx2token[idx.item()], end=' ')"
   ]
  },
  {
   "cell_type": "code",
   "execution_count": 56,
   "id": "605970c2",
   "metadata": {},
   "outputs": [
    {
     "data": {
      "text/plain": [
       "\"After Abraham Lincoln won the November 1860 presidential [MASK] on an anti-slavery platform, an initial seven slave states declared their secession from the country to form the Confederacy. War broke out in April 1861 when secessionist forces [MASK] Fort Sumter in South Carolina, just over a month after Lincoln's inauguration.\""
      ]
     },
     "execution_count": 56,
     "metadata": {},
     "output_type": "execute_result"
    }
   ],
   "source": [
    "text"
   ]
  },
  {
   "cell_type": "markdown",
   "id": "15918035",
   "metadata": {},
   "source": [
    "We can see here that the predicted word for 'election' is 'primaries', which can is a reasonably close word match - although certainly not perfect or correct. For 'attacked' we see 'occupied' as the predicted word, again, not correct but pretty close."
   ]
  },
  {
   "cell_type": "markdown",
   "id": "4a4764fc",
   "metadata": {},
   "source": [
    "## NSP (Next Sentence Prediction) "
   ]
  },
  {
   "cell_type": "code",
   "execution_count": 62,
   "id": "acceb001",
   "metadata": {},
   "outputs": [],
   "source": [
    "# tokenize a paragraph of text from the Wikipedia page on the American Civil War. \n",
    "text = (\"After Abraham Lincoln won the November 1860 presidential [MASK] on an \"\n",
    "        \"anti-slavery platform, an initial seven slave states declared their \"\n",
    "        \"secession from the country to form the Confederacy.\")\n",
    "text2 = (\"War broke out in April 1861 when secessionist forces [MASK] Fort \"\n",
    "         \"Sumter in South Carolina, just over a month after Lincoln's \" \n",
    "         \"inauguration.\")"
   ]
  },
  {
   "cell_type": "code",
   "execution_count": 64,
   "id": "12bddfc7",
   "metadata": {},
   "outputs": [],
   "source": [
    "inputs = tokenizer(text, text2, return_tensors='pt')"
   ]
  },
  {
   "cell_type": "code",
   "execution_count": 65,
   "id": "21887277",
   "metadata": {},
   "outputs": [
    {
     "data": {
      "text/plain": [
       "{'input_ids': tensor([[  101,  2044,  8181,  5367,  2180,  1996,  2281,  7313,  4883,   103,\n",
       "          2006,  2019,  3424,  1011,  8864,  4132,  1010,  2019,  3988,  2698,\n",
       "          6658,  2163,  4161,  2037, 22965,  2013,  1996,  2406,  2000,  2433,\n",
       "          1996, 18179,  1012,  2162,  3631,  2041,  1999,  2258,  6863,  2043,\n",
       "         22965,  2923,  2749,   103,  3481,  7680,  3334,  1999,  2148,  3792,\n",
       "          1010,  2074,  2058,  1037,  3204,  2044,  5367,  1005,  1055, 17331,\n",
       "          1012,   102,  2162,  3631,  2041,  1999,  2258,  6863,  2043, 22965,\n",
       "          2923,  2749,   103,  3481,  7680,  3334,  1999,  2148,  3792,  1010,\n",
       "          2074,  2058,  1037,  3204,  2044,  5367,  1005,  1055, 17331,  1012,\n",
       "           102]]), 'token_type_ids': tensor([[0, 0, 0, 0, 0, 0, 0, 0, 0, 0, 0, 0, 0, 0, 0, 0, 0, 0, 0, 0, 0, 0, 0, 0,\n",
       "         0, 0, 0, 0, 0, 0, 0, 0, 0, 0, 0, 0, 0, 0, 0, 0, 0, 0, 0, 0, 0, 0, 0, 0,\n",
       "         0, 0, 0, 0, 0, 0, 0, 0, 0, 0, 0, 0, 0, 0, 1, 1, 1, 1, 1, 1, 1, 1, 1, 1,\n",
       "         1, 1, 1, 1, 1, 1, 1, 1, 1, 1, 1, 1, 1, 1, 1, 1, 1, 1, 1]]), 'attention_mask': tensor([[1, 1, 1, 1, 1, 1, 1, 1, 1, 1, 1, 1, 1, 1, 1, 1, 1, 1, 1, 1, 1, 1, 1, 1,\n",
       "         1, 1, 1, 1, 1, 1, 1, 1, 1, 1, 1, 1, 1, 1, 1, 1, 1, 1, 1, 1, 1, 1, 1, 1,\n",
       "         1, 1, 1, 1, 1, 1, 1, 1, 1, 1, 1, 1, 1, 1, 1, 1, 1, 1, 1, 1, 1, 1, 1, 1,\n",
       "         1, 1, 1, 1, 1, 1, 1, 1, 1, 1, 1, 1, 1, 1, 1, 1, 1, 1, 1]])}"
      ]
     },
     "execution_count": 65,
     "metadata": {},
     "output_type": "execute_result"
    }
   ],
   "source": [
    "inputs"
   ]
  },
  {
   "cell_type": "code",
   "execution_count": 66,
   "id": "bfd77dec",
   "metadata": {},
   "outputs": [],
   "source": [
    "outputs = model(**inputs)"
   ]
  },
  {
   "cell_type": "code",
   "execution_count": 67,
   "id": "b0b7d3c7",
   "metadata": {},
   "outputs": [
    {
     "data": {
      "text/plain": [
       "tensor([[ 6.4874, -6.4341]], grad_fn=<AddmmBackward0>)"
      ]
     },
     "execution_count": 67,
     "metadata": {},
     "output_type": "execute_result"
    }
   ],
   "source": [
    "outputs.seq_relationship_logits"
   ]
  },
  {
   "cell_type": "code",
   "execution_count": 69,
   "id": "0ca494a3",
   "metadata": {},
   "outputs": [],
   "source": [
    "argmax = torch.argmax(outputs.seq_relationship_logits)"
   ]
  },
  {
   "cell_type": "code",
   "execution_count": 70,
   "id": "d9cd1156",
   "metadata": {},
   "outputs": [
    {
     "data": {
      "text/plain": [
       "tensor(0)"
      ]
     },
     "execution_count": 70,
     "metadata": {},
     "output_type": "execute_result"
    }
   ],
   "source": [
    "argmax"
   ]
  },
  {
   "cell_type": "markdown",
   "id": "139f7ead",
   "metadata": {},
   "source": [
    "Index 0 represents BERTs IsNext class, meaning that sentence B is the next sentence after A. Index 1 represents the NotNext class, meaning sentence B is not the next sentence after B. We can write this as:\n",
    "\n"
   ]
  },
  {
   "cell_type": "code",
   "execution_count": 72,
   "id": "463110a8",
   "metadata": {},
   "outputs": [
    {
     "data": {
      "text/plain": [
       "'IsNext'"
      ]
     },
     "execution_count": 72,
     "metadata": {},
     "output_type": "execute_result"
    }
   ],
   "source": [
    "'NotNext' if argmax.item() else 'IsNext'"
   ]
  },
  {
   "cell_type": "code",
   "execution_count": null,
   "id": "118dd3c2",
   "metadata": {},
   "outputs": [],
   "source": []
  }
 ],
 "metadata": {
  "kernelspec": {
   "display_name": "Python 3 (ipykernel)",
   "language": "python",
   "name": "python3"
  },
  "language_info": {
   "codemirror_mode": {
    "name": "ipython",
    "version": 3
   },
   "file_extension": ".py",
   "mimetype": "text/x-python",
   "name": "python",
   "nbconvert_exporter": "python",
   "pygments_lexer": "ipython3",
   "version": "3.11.4"
  }
 },
 "nbformat": 4,
 "nbformat_minor": 5
}

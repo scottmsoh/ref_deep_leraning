{
 "cells": [
  {
   "cell_type": "markdown",
   "metadata": {},
   "source": [
    "### MLP (Multi Layer Perceptron) Experiements"
   ]
  },
  {
   "cell_type": "markdown",
   "metadata": {},
   "source": [
    "### Model Setup for Predicting A_CP\n",
    "We aim to build a model that predicts the A_CP feature (current price of portfolio A) and evaluate its performance by comparing the loss of the predicted values against the actual values.</br>\n",
    "\n",
    "#### Steps to Set Up the Model:</br>\n",
    "Data Preparation:</br>\n",
    "Load the dataset and split it into training, validation, and test sets.</br>\n",
    "Normalize the features to ensure that all features contribute equally to the model training.</br>\n",
    "\n",
    "Define the Model:</br>\n",
    "Use a simple Multi-Layer Perceptron (MLP) as the model architecture.</br>\n",
    "The model will consist of input, hidden, and output layers with ReLU activation functions.</br>\n",
    "\n",
    "Training the Model:</br>\n",
    "Define the loss function (Mean Squared Error) and the optimizer (Adam).</br>\n",
    "Train the model on the training set and validate it on the validation set.</br>\n",
    "Monitor the loss to ensure the model is learning properly.</br>\n",
    "\n",
    "Evaluating the Model:</br>\n",
    "Evaluate the model on the test set.</br>\n",
    "Compare the predicted A_CP values with the actual A_CP values using the loss function.</br>\n"
   ]
  },
  {
   "cell_type": "code",
   "execution_count": 1,
   "metadata": {},
   "outputs": [],
   "source": [
    "import pandas as pd\n",
    "import numpy as np\n",
    "\n",
    "from sklearn.preprocessing import StandardScaler\n",
    "\n",
    "import torch\n",
    "import torch.nn as nn\n",
    "import torch.functional as F\n",
    "import torch.optim as optim\n",
    "from torch.utils.data import DataLoader, Dataset"
   ]
  },
  {
   "cell_type": "markdown",
   "metadata": {},
   "source": [
    "### Feature Descriptions\n",
    "\n",
    "- **DATE**: Represents the date when the financial data was collected.\n",
    "- **FFR**: Represents the Federal Funds Rate (the interest rate at which depository institutions trade federal funds with each other overnight in the U.S.).\n",
    "- **BOK**: Represents the interest rate set by the Bank of Korea.\n",
    "- **TB3Y, TB10Y**: Represents the yields on 3-year and 10-year U.S. Treasury Bonds, respectively.\n",
    "- **CD**: Represents the Certificate of Deposit rate.\n",
    "- **USD**: Represents the exchange rate for the U.S. dollar.\n",
    "- **A_SP, B_SP, C_SP, D_SP, E_SP, F_SP, G_SP**: Represents the stock prices of portfolios (or stocks) A to G.\n",
    "- **A_CP, B_CP, C_CP, D_CP, E_CP, F_CP, G_CP**: Represents the current prices of portfolios A to G.\n",
    "- **A_AUM, B_AUM, C_AUM, D_AUM, E_AUM, F_AUM, G_AUM**: Represents the Assets Under Management (AUM) for portfolios A to G.\n",
    "- **A_VOL, B_VOL, C_VOL, D_VOL, E_VOL, F_VOL, G_VOL**: Represents the trading volume for portfolios A to G.\n",
    "- **A_NAV, B_NAV, C_NAV, D_NAV, E_NAV, F_NAV, G_NAV**: Represents the Net Asset Value (NAV) for portfolios A to G.\n"
   ]
  },
  {
   "cell_type": "code",
   "execution_count": 2,
   "metadata": {},
   "outputs": [],
   "source": [
    "# GPU\n",
    "device = 'cuda' if torch.cuda.is_available() else 'cpu'"
   ]
  },
  {
   "cell_type": "code",
   "execution_count": 3,
   "metadata": {},
   "outputs": [],
   "source": [
    "## Fixing numerics\n",
    "seed = 0\n",
    "np.random.seed(seed)\n",
    "torch.manual_seed(seed)\n",
    "if device == 'cuda':\n",
    "    torch.cuda.manual_seed_all(seed)\n",
    "torch.backends.cudnn.deterministic = True\n",
    "torch.backends.cudnn.benchmark = False"
   ]
  },
  {
   "cell_type": "code",
   "execution_count": 120,
   "metadata": {},
   "outputs": [
    {
     "data": {
      "text/html": [
       "<div>\n",
       "<style scoped>\n",
       "    .dataframe tbody tr th:only-of-type {\n",
       "        vertical-align: middle;\n",
       "    }\n",
       "\n",
       "    .dataframe tbody tr th {\n",
       "        vertical-align: top;\n",
       "    }\n",
       "\n",
       "    .dataframe thead th {\n",
       "        text-align: right;\n",
       "    }\n",
       "</style>\n",
       "<table border=\"1\" class=\"dataframe\">\n",
       "  <thead>\n",
       "    <tr style=\"text-align: right;\">\n",
       "      <th></th>\n",
       "      <th>FFR</th>\n",
       "      <th>BOK</th>\n",
       "      <th>TB3Y</th>\n",
       "      <th>TB10Y</th>\n",
       "      <th>CD</th>\n",
       "      <th>USD</th>\n",
       "      <th>A_SP</th>\n",
       "      <th>A_CP</th>\n",
       "      <th>A_AUM</th>\n",
       "      <th>A_VOL</th>\n",
       "      <th>...</th>\n",
       "      <th>F_CP</th>\n",
       "      <th>F_AUM</th>\n",
       "      <th>F_VOL</th>\n",
       "      <th>F_NAV</th>\n",
       "      <th>G_SP</th>\n",
       "      <th>G_CP</th>\n",
       "      <th>G_AUM</th>\n",
       "      <th>G_VOL</th>\n",
       "      <th>G_NAV</th>\n",
       "      <th>target</th>\n",
       "    </tr>\n",
       "    <tr>\n",
       "      <th>DATE</th>\n",
       "      <th></th>\n",
       "      <th></th>\n",
       "      <th></th>\n",
       "      <th></th>\n",
       "      <th></th>\n",
       "      <th></th>\n",
       "      <th></th>\n",
       "      <th></th>\n",
       "      <th></th>\n",
       "      <th></th>\n",
       "      <th></th>\n",
       "      <th></th>\n",
       "      <th></th>\n",
       "      <th></th>\n",
       "      <th></th>\n",
       "      <th></th>\n",
       "      <th></th>\n",
       "      <th></th>\n",
       "      <th></th>\n",
       "      <th></th>\n",
       "      <th></th>\n",
       "    </tr>\n",
       "  </thead>\n",
       "  <tbody>\n",
       "    <tr>\n",
       "      <th>2018-05-11</th>\n",
       "      <td>1.75</td>\n",
       "      <td>1.5</td>\n",
       "      <td>2.282</td>\n",
       "      <td>2.785</td>\n",
       "      <td>1.65</td>\n",
       "      <td>1075.3</td>\n",
       "      <td>100655.0</td>\n",
       "      <td>100655.0</td>\n",
       "      <td>1163069.0</td>\n",
       "      <td>66618.0</td>\n",
       "      <td>...</td>\n",
       "      <td>31865.0</td>\n",
       "      <td>5770752.0</td>\n",
       "      <td>7231864.0</td>\n",
       "      <td>31913.84</td>\n",
       "      <td>6085.0</td>\n",
       "      <td>6075.0</td>\n",
       "      <td>663390.0</td>\n",
       "      <td>4286144.0</td>\n",
       "      <td>6103.90</td>\n",
       "      <td>100660.0</td>\n",
       "    </tr>\n",
       "    <tr>\n",
       "      <th>2018-05-14</th>\n",
       "      <td>1.75</td>\n",
       "      <td>1.5</td>\n",
       "      <td>2.305</td>\n",
       "      <td>2.792</td>\n",
       "      <td>1.65</td>\n",
       "      <td>1068.6</td>\n",
       "      <td>100655.0</td>\n",
       "      <td>100660.0</td>\n",
       "      <td>1170474.0</td>\n",
       "      <td>9902.0</td>\n",
       "      <td>...</td>\n",
       "      <td>31800.0</td>\n",
       "      <td>5603160.0</td>\n",
       "      <td>5904625.0</td>\n",
       "      <td>31834.53</td>\n",
       "      <td>6065.0</td>\n",
       "      <td>6090.0</td>\n",
       "      <td>661374.0</td>\n",
       "      <td>2517386.0</td>\n",
       "      <td>6118.88</td>\n",
       "      <td>100660.0</td>\n",
       "    </tr>\n",
       "    <tr>\n",
       "      <th>2018-05-15</th>\n",
       "      <td>1.75</td>\n",
       "      <td>1.5</td>\n",
       "      <td>2.308</td>\n",
       "      <td>2.815</td>\n",
       "      <td>1.65</td>\n",
       "      <td>1066.6</td>\n",
       "      <td>100660.0</td>\n",
       "      <td>100660.0</td>\n",
       "      <td>1171884.0</td>\n",
       "      <td>19864.0</td>\n",
       "      <td>...</td>\n",
       "      <td>31510.0</td>\n",
       "      <td>5501646.0</td>\n",
       "      <td>5743855.0</td>\n",
       "      <td>31555.82</td>\n",
       "      <td>6095.0</td>\n",
       "      <td>6145.0</td>\n",
       "      <td>665504.0</td>\n",
       "      <td>4043920.0</td>\n",
       "      <td>6178.30</td>\n",
       "      <td>100670.0</td>\n",
       "    </tr>\n",
       "    <tr>\n",
       "      <th>2018-05-16</th>\n",
       "      <td>1.75</td>\n",
       "      <td>1.5</td>\n",
       "      <td>2.278</td>\n",
       "      <td>2.782</td>\n",
       "      <td>1.65</td>\n",
       "      <td>1072.6</td>\n",
       "      <td>100665.0</td>\n",
       "      <td>100670.0</td>\n",
       "      <td>1172604.0</td>\n",
       "      <td>13733.0</td>\n",
       "      <td>...</td>\n",
       "      <td>31610.0</td>\n",
       "      <td>5659771.0</td>\n",
       "      <td>6580601.0</td>\n",
       "      <td>31657.98</td>\n",
       "      <td>6175.0</td>\n",
       "      <td>6120.0</td>\n",
       "      <td>662796.0</td>\n",
       "      <td>5805785.0</td>\n",
       "      <td>6156.20</td>\n",
       "      <td>100690.0</td>\n",
       "    </tr>\n",
       "    <tr>\n",
       "      <th>2018-05-17</th>\n",
       "      <td>1.75</td>\n",
       "      <td>1.5</td>\n",
       "      <td>2.265</td>\n",
       "      <td>2.797</td>\n",
       "      <td>1.65</td>\n",
       "      <td>1078.7</td>\n",
       "      <td>100690.0</td>\n",
       "      <td>100690.0</td>\n",
       "      <td>1182906.0</td>\n",
       "      <td>10933.0</td>\n",
       "      <td>...</td>\n",
       "      <td>31495.0</td>\n",
       "      <td>5623432.0</td>\n",
       "      <td>4361954.0</td>\n",
       "      <td>31489.75</td>\n",
       "      <td>6105.0</td>\n",
       "      <td>6170.0</td>\n",
       "      <td>668211.0</td>\n",
       "      <td>5476774.0</td>\n",
       "      <td>6185.40</td>\n",
       "      <td>100700.0</td>\n",
       "    </tr>\n",
       "    <tr>\n",
       "      <th>...</th>\n",
       "      <td>...</td>\n",
       "      <td>...</td>\n",
       "      <td>...</td>\n",
       "      <td>...</td>\n",
       "      <td>...</td>\n",
       "      <td>...</td>\n",
       "      <td>...</td>\n",
       "      <td>...</td>\n",
       "      <td>...</td>\n",
       "      <td>...</td>\n",
       "      <td>...</td>\n",
       "      <td>...</td>\n",
       "      <td>...</td>\n",
       "      <td>...</td>\n",
       "      <td>...</td>\n",
       "      <td>...</td>\n",
       "      <td>...</td>\n",
       "      <td>...</td>\n",
       "      <td>...</td>\n",
       "      <td>...</td>\n",
       "      <td>...</td>\n",
       "    </tr>\n",
       "    <tr>\n",
       "      <th>2024-05-24</th>\n",
       "      <td>5.50</td>\n",
       "      <td>3.5</td>\n",
       "      <td>3.415</td>\n",
       "      <td>3.507</td>\n",
       "      <td>3.60</td>\n",
       "      <td>1364.5</td>\n",
       "      <td>109690.0</td>\n",
       "      <td>109700.0</td>\n",
       "      <td>732138.0</td>\n",
       "      <td>80547.0</td>\n",
       "      <td>...</td>\n",
       "      <td>36685.0</td>\n",
       "      <td>6498748.0</td>\n",
       "      <td>5643266.0</td>\n",
       "      <td>36757.53</td>\n",
       "      <td>4195.0</td>\n",
       "      <td>4210.0</td>\n",
       "      <td>645814.0</td>\n",
       "      <td>26027026.0</td>\n",
       "      <td>4206.62</td>\n",
       "      <td>109705.0</td>\n",
       "    </tr>\n",
       "    <tr>\n",
       "      <th>2024-05-27</th>\n",
       "      <td>5.50</td>\n",
       "      <td>3.5</td>\n",
       "      <td>3.410</td>\n",
       "      <td>3.497</td>\n",
       "      <td>3.61</td>\n",
       "      <td>1370.0</td>\n",
       "      <td>109695.0</td>\n",
       "      <td>109705.0</td>\n",
       "      <td>732171.0</td>\n",
       "      <td>7600.0</td>\n",
       "      <td>...</td>\n",
       "      <td>37195.0</td>\n",
       "      <td>6529582.0</td>\n",
       "      <td>6649585.0</td>\n",
       "      <td>37265.83</td>\n",
       "      <td>4190.0</td>\n",
       "      <td>4150.0</td>\n",
       "      <td>644080.0</td>\n",
       "      <td>38208337.0</td>\n",
       "      <td>4147.19</td>\n",
       "      <td>109720.0</td>\n",
       "    </tr>\n",
       "    <tr>\n",
       "      <th>2024-05-28</th>\n",
       "      <td>5.50</td>\n",
       "      <td>3.5</td>\n",
       "      <td>3.387</td>\n",
       "      <td>3.477</td>\n",
       "      <td>3.62</td>\n",
       "      <td>1365.4</td>\n",
       "      <td>109720.0</td>\n",
       "      <td>109720.0</td>\n",
       "      <td>732271.0</td>\n",
       "      <td>20970.0</td>\n",
       "      <td>...</td>\n",
       "      <td>37235.0</td>\n",
       "      <td>6452826.0</td>\n",
       "      <td>4056913.0</td>\n",
       "      <td>37285.83</td>\n",
       "      <td>4160.0</td>\n",
       "      <td>4140.0</td>\n",
       "      <td>635490.0</td>\n",
       "      <td>20611692.0</td>\n",
       "      <td>4144.17</td>\n",
       "      <td>109720.0</td>\n",
       "    </tr>\n",
       "    <tr>\n",
       "      <th>2024-05-29</th>\n",
       "      <td>5.50</td>\n",
       "      <td>3.5</td>\n",
       "      <td>3.420</td>\n",
       "      <td>3.535</td>\n",
       "      <td>3.61</td>\n",
       "      <td>1359.5</td>\n",
       "      <td>109720.0</td>\n",
       "      <td>109720.0</td>\n",
       "      <td>732271.0</td>\n",
       "      <td>51048.0</td>\n",
       "      <td>...</td>\n",
       "      <td>36690.0</td>\n",
       "      <td>6264818.0</td>\n",
       "      <td>8392854.0</td>\n",
       "      <td>36647.34</td>\n",
       "      <td>4160.0</td>\n",
       "      <td>4205.0</td>\n",
       "      <td>624443.0</td>\n",
       "      <td>23189787.0</td>\n",
       "      <td>4207.50</td>\n",
       "      <td>109760.0</td>\n",
       "    </tr>\n",
       "    <tr>\n",
       "      <th>2024-05-30</th>\n",
       "      <td>5.50</td>\n",
       "      <td>3.5</td>\n",
       "      <td>3.440</td>\n",
       "      <td>3.562</td>\n",
       "      <td>3.60</td>\n",
       "      <td>1364.8</td>\n",
       "      <td>109725.0</td>\n",
       "      <td>109760.0</td>\n",
       "      <td>734514.0</td>\n",
       "      <td>35332.0</td>\n",
       "      <td>...</td>\n",
       "      <td>36025.0</td>\n",
       "      <td>6270151.0</td>\n",
       "      <td>6689431.0</td>\n",
       "      <td>36023.36</td>\n",
       "      <td>4245.0</td>\n",
       "      <td>4285.0</td>\n",
       "      <td>602043.0</td>\n",
       "      <td>25196070.0</td>\n",
       "      <td>4279.91</td>\n",
       "      <td>109755.0</td>\n",
       "    </tr>\n",
       "  </tbody>\n",
       "</table>\n",
       "<p>1490 rows × 42 columns</p>\n",
       "</div>"
      ],
      "text/plain": [
       "             FFR  BOK   TB3Y  TB10Y    CD     USD      A_SP      A_CP  \\\n",
       "DATE                                                                    \n",
       "2018-05-11  1.75  1.5  2.282  2.785  1.65  1075.3  100655.0  100655.0   \n",
       "2018-05-14  1.75  1.5  2.305  2.792  1.65  1068.6  100655.0  100660.0   \n",
       "2018-05-15  1.75  1.5  2.308  2.815  1.65  1066.6  100660.0  100660.0   \n",
       "2018-05-16  1.75  1.5  2.278  2.782  1.65  1072.6  100665.0  100670.0   \n",
       "2018-05-17  1.75  1.5  2.265  2.797  1.65  1078.7  100690.0  100690.0   \n",
       "...          ...  ...    ...    ...   ...     ...       ...       ...   \n",
       "2024-05-24  5.50  3.5  3.415  3.507  3.60  1364.5  109690.0  109700.0   \n",
       "2024-05-27  5.50  3.5  3.410  3.497  3.61  1370.0  109695.0  109705.0   \n",
       "2024-05-28  5.50  3.5  3.387  3.477  3.62  1365.4  109720.0  109720.0   \n",
       "2024-05-29  5.50  3.5  3.420  3.535  3.61  1359.5  109720.0  109720.0   \n",
       "2024-05-30  5.50  3.5  3.440  3.562  3.60  1364.8  109725.0  109760.0   \n",
       "\n",
       "                A_AUM    A_VOL  ...     F_CP      F_AUM      F_VOL     F_NAV  \\\n",
       "DATE                            ...                                            \n",
       "2018-05-11  1163069.0  66618.0  ...  31865.0  5770752.0  7231864.0  31913.84   \n",
       "2018-05-14  1170474.0   9902.0  ...  31800.0  5603160.0  5904625.0  31834.53   \n",
       "2018-05-15  1171884.0  19864.0  ...  31510.0  5501646.0  5743855.0  31555.82   \n",
       "2018-05-16  1172604.0  13733.0  ...  31610.0  5659771.0  6580601.0  31657.98   \n",
       "2018-05-17  1182906.0  10933.0  ...  31495.0  5623432.0  4361954.0  31489.75   \n",
       "...               ...      ...  ...      ...        ...        ...       ...   \n",
       "2024-05-24   732138.0  80547.0  ...  36685.0  6498748.0  5643266.0  36757.53   \n",
       "2024-05-27   732171.0   7600.0  ...  37195.0  6529582.0  6649585.0  37265.83   \n",
       "2024-05-28   732271.0  20970.0  ...  37235.0  6452826.0  4056913.0  37285.83   \n",
       "2024-05-29   732271.0  51048.0  ...  36690.0  6264818.0  8392854.0  36647.34   \n",
       "2024-05-30   734514.0  35332.0  ...  36025.0  6270151.0  6689431.0  36023.36   \n",
       "\n",
       "              G_SP    G_CP     G_AUM       G_VOL    G_NAV    target  \n",
       "DATE                                                                 \n",
       "2018-05-11  6085.0  6075.0  663390.0   4286144.0  6103.90  100660.0  \n",
       "2018-05-14  6065.0  6090.0  661374.0   2517386.0  6118.88  100660.0  \n",
       "2018-05-15  6095.0  6145.0  665504.0   4043920.0  6178.30  100670.0  \n",
       "2018-05-16  6175.0  6120.0  662796.0   5805785.0  6156.20  100690.0  \n",
       "2018-05-17  6105.0  6170.0  668211.0   5476774.0  6185.40  100700.0  \n",
       "...            ...     ...       ...         ...      ...       ...  \n",
       "2024-05-24  4195.0  4210.0  645814.0  26027026.0  4206.62  109705.0  \n",
       "2024-05-27  4190.0  4150.0  644080.0  38208337.0  4147.19  109720.0  \n",
       "2024-05-28  4160.0  4140.0  635490.0  20611692.0  4144.17  109720.0  \n",
       "2024-05-29  4160.0  4205.0  624443.0  23189787.0  4207.50  109760.0  \n",
       "2024-05-30  4245.0  4285.0  602043.0  25196070.0  4279.91  109755.0  \n",
       "\n",
       "[1490 rows x 42 columns]"
      ]
     },
     "execution_count": 120,
     "metadata": {},
     "output_type": "execute_result"
    }
   ],
   "source": [
    "## data preprocessing\n",
    "data = pd.read_csv('./data.csv')\n",
    "data = data.set_index('DATE')\n",
    "data = data.sort_index()\n",
    "data = data.replace(to_replace=',', value='', regex=True)\n",
    "data = data.astype(float)\n",
    "data['target'] = data.A_CP.shift(-1)\n",
    "data = data.dropna()\n",
    "data"
   ]
  },
  {
   "cell_type": "code",
   "execution_count": 121,
   "metadata": {},
   "outputs": [],
   "source": [
    "train = data.iloc[:800]\n",
    "valid = data.iloc[800:800+400] \n",
    "test = data.iloc[800+400:]"
   ]
  },
  {
   "cell_type": "code",
   "execution_count": 122,
   "metadata": {},
   "outputs": [],
   "source": [
    "standard_scaler = StandardScaler()"
   ]
  },
  {
   "cell_type": "code",
   "execution_count": 123,
   "metadata": {},
   "outputs": [],
   "source": [
    "# if we use only train, not train.iloc[], we would loose the structure of dataframe like index, columns.\n",
    "train.iloc[:] = standard_scaler.fit_transform(train)\n",
    "valid.iloc[:] = standard_scaler.transform(valid)\n",
    "test.iloc[:] = standard_scaler.transform(test)"
   ]
  },
  {
   "cell_type": "markdown",
   "metadata": {},
   "source": [
    "### Dataset structure (Class)"
   ]
  },
  {
   "cell_type": "code",
   "execution_count": 124,
   "metadata": {},
   "outputs": [],
   "source": [
    "## Dataset structure (Class)\n",
    "class StockDataset(Dataset):\n",
    "    def __init__(self, data):\n",
    "        self.data = data\n",
    "    \n",
    "    def __len__(self):\n",
    "        return len(self.data)\n",
    "    \n",
    "    def __getitem__(self, index):\n",
    "        x = self.data.iloc[index, :-1]\n",
    "        y = self.data.iloc[index, -1:]\n",
    "\n",
    "        x = torch.Tensor(x)\n",
    "        y = torch.Tensor(y)\n",
    "\n",
    "        return {\n",
    "            'X': x,\n",
    "            'y': y,\n",
    "        }"
   ]
  },
  {
   "cell_type": "code",
   "execution_count": 125,
   "metadata": {},
   "outputs": [
    {
     "data": {
      "text/plain": [
       "400"
      ]
     },
     "execution_count": 125,
     "metadata": {},
     "output_type": "execute_result"
    }
   ],
   "source": [
    "len(valid)"
   ]
  },
  {
   "cell_type": "code",
   "execution_count": 126,
   "metadata": {},
   "outputs": [],
   "source": [
    "train_dataset = StockDataset(train)\n",
    "valid_dataset = StockDataset(valid)\n",
    "test_dataset = StockDataset(test)"
   ]
  },
  {
   "cell_type": "markdown",
   "metadata": {},
   "source": [
    "### Hyperparameter configuration\n",
    "\n",
    "Hyperparameters: Values ​​that must be set directly by the user\n",
    " - batch_size: Out of all data, data will be divided into batches. Set how many batches to split into.\n",
    " - epoch: How many learning sessions will be conducted\n",
    " - learning_rate: How long will the learning take?"
   ]
  },
  {
   "cell_type": "code",
   "execution_count": 127,
   "metadata": {},
   "outputs": [],
   "source": [
    "batch_size = 128\n",
    "epochs = 50\n",
    "learning_rate = 1e-3\n",
    "hidden_dim = 64"
   ]
  },
  {
   "cell_type": "markdown",
   "metadata": {},
   "source": [
    "### Data Loader\n",
    "Used when iterating a dataset\n",
    "Each iteration returns a batch of features and labels of batch_size."
   ]
  },
  {
   "cell_type": "code",
   "execution_count": 128,
   "metadata": {},
   "outputs": [],
   "source": [
    "## Data Loader\n",
    "train_dataloader = DataLoader(\n",
    "    train_dataset,\n",
    "    batch_size=batch_size,\n",
    "    shuffle = False,\n",
    "    drop_last=True\n",
    ")\n",
    "\n",
    "valid_dataloader = DataLoader(\n",
    "    valid_dataset,\n",
    "    batch_size = batch_size,\n",
    "    shuffle = False,\n",
    "    drop_last = True\n",
    ")\n",
    "\n",
    "test_dataloader = DataLoader(\n",
    "    test_dataset,\n",
    "    batch_size = batch_size,\n",
    "    shuffle = False,\n",
    "    drop_last = True\n",
    ")"
   ]
  },
  {
   "cell_type": "markdown",
   "metadata": {},
   "source": [
    "### Define Model Architecture \n",
    "\n",
    "- Define the model architecture to be used during training\n",
    "- If the number of data is small compared to model complexity, overfitting is likely to occur.\n",
    "- If the number of data is large compared to model complexity, underfitting is likely to occur."
   ]
  },
  {
   "cell_type": "code",
   "execution_count": 129,
   "metadata": {},
   "outputs": [],
   "source": [
    "### Define Model Architecture \n",
    "class MLP(nn.Module):\n",
    "    def __init__(self, input_dim, hidden_dim, output_dim):\n",
    "        super().__init__()\n",
    "        self.fc1 = nn.Linear(input_dim, hidden_dim) ## fully-connected layer (1st)\n",
    "        self.relu = nn.ReLU() ## activation function for non-linearity\n",
    "        self.fc2 = nn.Linear(hidden_dim, output_dim) ## fully-connected layer (2nd)\n",
    "\n",
    "    def forward(self, x): # forward propagation\n",
    "        x = self.fc1(x)\n",
    "        x = self.relu(x)\n",
    "        x = self.fc2(x)\n",
    "\n",
    "        return x"
   ]
  },
  {
   "cell_type": "markdown",
   "metadata": {},
   "source": [
    "### Define model"
   ]
  },
  {
   "cell_type": "code",
   "execution_count": 130,
   "metadata": {},
   "outputs": [],
   "source": [
    "# len(train.coloums)-1, to except target column at the last\n",
    "model = MLP(len(train.columns)-1, hidden_dim, 1) ##input_dim, hidden_dim, output_dim "
   ]
  },
  {
   "cell_type": "markdown",
   "metadata": {},
   "source": [
    "### Configure Loss fuction "
   ]
  },
  {
   "cell_type": "code",
   "execution_count": 131,
   "metadata": {},
   "outputs": [],
   "source": [
    "criterion = nn.MSELoss().to(device)"
   ]
  },
  {
   "cell_type": "markdown",
   "metadata": {},
   "source": [
    "### Configure Optimizer \n",
    "Define optimal algorithm to train (Adam) "
   ]
  },
  {
   "cell_type": "code",
   "execution_count": 132,
   "metadata": {},
   "outputs": [],
   "source": [
    "optimizer = optim.Adam(model.parameters(), lr=learning_rate)"
   ]
  },
  {
   "cell_type": "code",
   "execution_count": 133,
   "metadata": {},
   "outputs": [
    {
     "name": "stderr",
     "output_type": "stream",
     "text": [
      "/var/folders/x6/29gj9fhd1rs_98l6pyr3bngw0000gn/T/ipykernel_40698/2862007400.py:13: FutureWarning: Series.__getitem__ treating keys as positions is deprecated. In a future version, integer keys will always be treated as labels (consistent with DataFrame behavior). To access a value by position, use `ser.iloc[pos]`\n",
      "  x = torch.Tensor(x)\n",
      "/var/folders/x6/29gj9fhd1rs_98l6pyr3bngw0000gn/T/ipykernel_40698/2862007400.py:14: FutureWarning: Series.__getitem__ treating keys as positions is deprecated. In a future version, integer keys will always be treated as labels (consistent with DataFrame behavior). To access a value by position, use `ser.iloc[pos]`\n",
      "  y = torch.Tensor(y)\n"
     ]
    },
    {
     "name": "stdout",
     "output_type": "stream",
     "text": [
      "Epoch:   1 | train_loss:  5.717977 | valid_loss:  629.845276\n",
      "Epoch:   2 | train_loss:  4.667722 | valid_loss:  659.428101\n",
      "Epoch:   3 | train_loss:  3.891316 | valid_loss:  679.542053\n",
      "Epoch:   4 | train_loss:  3.308689 | valid_loss:  686.214127\n",
      "Epoch:   5 | train_loss:  2.876133 | valid_loss:  678.698132\n",
      "Epoch:   6 | train_loss:  2.554555 | valid_loss:  658.342784\n",
      "Epoch:   7 | train_loss:  2.309238 | valid_loss:  628.484480\n",
      "Epoch:   8 | train_loss:  2.114630 | valid_loss:  593.154568\n",
      "Epoch:   9 | train_loss:  1.955046 | valid_loss:  556.162262\n",
      "Epoch:  10 | train_loss:  1.821381 | valid_loss:  520.315207\n",
      "Epoch:  11 | train_loss:  1.707701 | valid_loss:  487.120139\n",
      "Epoch:  12 | train_loss:  1.609600 | valid_loss:  457.161207\n",
      "Epoch:  13 | train_loss:  1.523741 | valid_loss:  430.464536\n",
      "Epoch:  14 | train_loss:  1.447674 | valid_loss:  406.760449\n",
      "Epoch:  15 | train_loss:  1.379618 | valid_loss:  385.671330\n",
      "Epoch:  16 | train_loss:  1.318233 | valid_loss:  366.816269\n",
      "Epoch:  17 | train_loss:  1.262465 | valid_loss:  349.867251\n",
      "Epoch:  18 | train_loss:  1.211466 | valid_loss:  334.563176\n",
      "Epoch:  19 | train_loss:  1.164549 | valid_loss:  320.700577\n",
      "Epoch:  20 | train_loss:  1.121168 | valid_loss:  308.115930\n",
      "Epoch:  21 | train_loss:  1.080883 | valid_loss:  296.670555\n",
      "Epoch:  22 | train_loss:  1.043330 | valid_loss:  286.239969\n",
      "Epoch:  23 | train_loss:  1.008208 | valid_loss:  276.712236\n",
      "Epoch:  24 | train_loss:  0.975265 | valid_loss:  267.987623\n",
      "Epoch:  25 | train_loss:  0.944289 | valid_loss:  259.980003\n",
      "Epoch:  26 | train_loss:  0.915096 | valid_loss:  252.616321\n",
      "Epoch:  27 | train_loss:  0.887532 | valid_loss:  245.835403\n",
      "Epoch:  28 | train_loss:  0.861461 | valid_loss:  239.585313\n"
     ]
    }
   ],
   "source": [
    "train_losses = []\n",
    "valid_losses = []\n",
    "stop_count = 0\n",
    "val_loss_best = np.inf\n",
    "\n",
    "for epoch in range(1, epochs+1):\n",
    "    ### train ###\n",
    "    total_train_loss = 0\n",
    "    for batch in train_dataloader:\n",
    "        X = batch.get('X').to(device)\n",
    "        y = batch.get('y').to(device)\n",
    "\n",
    "        optimizer.zero_grad()\n",
    "        output = model(X)\n",
    "        train_loss = criterion(output, y)\n",
    "        train_loss.backward()\n",
    "        optimizer.step()\n",
    "\n",
    "        total_train_loss += train_loss\n",
    "    \n",
    "    train_losses.append(total_train_loss.item())\n",
    "\n",
    "    ### valid ###\n",
    "    total_valid_loss = 0\n",
    "    model.eval()\n",
    "    for batch in valid_dataloader:\n",
    "        X = batch.get('X').to(device)\n",
    "        y = batch.get('y').to(device)\n",
    "\n",
    "        output = model(X)\n",
    "        valid_loss = criterion(output, y)\n",
    "\n",
    "        total_valid_loss += valid_loss\n",
    "\n",
    "    valid_losses.append(total_valid_loss.item())\n",
    "\n",
    "    ### early stop ###\n",
    "    if val_loss_best > total_valid_loss:\n",
    "        val_loss_best = total_valid_loss\n",
    "\n",
    "        stop_count = 0\n",
    "\n",
    "    else:\n",
    "        stop_count += 1\n",
    "    \n",
    "    if stop_count > 5:\n",
    "        break\n",
    "\n",
    "    print(f'Epoch: {epoch: 3d} | train_loss: {np.mean(train_losses): .6f} | valid_loss: {np.mean(valid_losses): .6f}')\n",
    "\n"
   ]
  },
  {
   "cell_type": "markdown",
   "metadata": {},
   "source": [
    "### Test \n",
    "- Evaluate performance of used model from training\n",
    "- Comparision between the accuracy of train and test cases\n",
    "- eval()"
   ]
  },
  {
   "cell_type": "markdown",
   "metadata": {},
   "source": []
  },
  {
   "cell_type": "code",
   "execution_count": 134,
   "metadata": {},
   "outputs": [
    {
     "name": "stderr",
     "output_type": "stream",
     "text": [
      "/var/folders/x6/29gj9fhd1rs_98l6pyr3bngw0000gn/T/ipykernel_40698/2862007400.py:13: FutureWarning: Series.__getitem__ treating keys as positions is deprecated. In a future version, integer keys will always be treated as labels (consistent with DataFrame behavior). To access a value by position, use `ser.iloc[pos]`\n",
      "  x = torch.Tensor(x)\n",
      "/var/folders/x6/29gj9fhd1rs_98l6pyr3bngw0000gn/T/ipykernel_40698/2862007400.py:14: FutureWarning: Series.__getitem__ treating keys as positions is deprecated. In a future version, integer keys will always be treated as labels (consistent with DataFrame behavior). To access a value by position, use `ser.iloc[pos]`\n",
      "  y = torch.Tensor(y)\n"
     ]
    }
   ],
   "source": [
    "y_test = []\n",
    "model.eval()\n",
    "for batch in test_dataloader:\n",
    "    X = batch.get(\"X\").to(device)\n",
    "    y = batch.get(\"y\").to(device)\n",
    "\n",
    "    output = model(X)\n",
    "\n",
    "    y_test.extend(output.detach())"
   ]
  },
  {
   "cell_type": "code",
   "execution_count": 135,
   "metadata": {},
   "outputs": [
    {
     "data": {
      "text/plain": [
       "(array([7]),)"
      ]
     },
     "execution_count": 135,
     "metadata": {},
     "output_type": "execute_result"
    }
   ],
   "source": [
    "np.where(data.columns == 'A_CP')"
   ]
  },
  {
   "cell_type": "code",
   "execution_count": 136,
   "metadata": {},
   "outputs": [
    {
     "data": {
      "text/plain": [
       "<Axes: xlabel='DATE'>"
      ]
     },
     "execution_count": 136,
     "metadata": {},
     "output_type": "execute_result"
    },
    {
     "data": {
      "image/png": "[encoded data removed]",
      "text/plain": [
       "<Figure size 640x480 with 1 Axes>"
      ]
     },
     "metadata": {},
     "output_type": "display_data"
    }
   ],
   "source": [
    "pd.DataFrame({\n",
    "    'real': test.iloc[:-(len(test)-256), -1]*standard_scaler.scale_[7] + standard_scaler.mean_[7],\n",
    "    'predicted': (torch.concat(y_test)*standard_scaler.scale_[7] + standard_scaler.mean_[7]).numpy()\n",
    "}).plot()"
   ]
  },
  {
   "cell_type": "markdown",
   "metadata": {},
   "source": []
  }
 ],
 "metadata": {
  "kernelspec": {
   "display_name": "llm_ev",
   "language": "python",
   "name": "python3"
  },
  "language_info": {
   "codemirror_mode": {
    "name": "ipython",
    "version": 3
   },
   "file_extension": ".py",
   "mimetype": "text/x-python",
   "name": "python",
   "nbconvert_exporter": "python",
   "pygments_lexer": "ipython3",
   "version": "3.10.14"
  }
 },
 "nbformat": 4,
 "nbformat_minor": 2
}

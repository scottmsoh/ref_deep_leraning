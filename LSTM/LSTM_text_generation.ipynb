{
 "cells": [
  {
   "cell_type": "markdown",
   "metadata": {},
   "source": [
    "# Library"
   ]
  },
  {
   "cell_type": "code",
   "execution_count": 78,
   "metadata": {},
   "outputs": [],
   "source": [
    "import numpy as np\n",
    "import urllib.request\n",
    "from typing import List\n",
    "import torch\n",
    "import torch.nn as nn\n",
    "import torch.optim as optim\n",
    "import torch.nn.functional as F\n",
    "from torch.utils.data import Dataset, DataLoader\n",
    "import lightning as L\n",
    "from tqdm import tqdm"
   ]
  },
  {
   "cell_type": "code",
   "execution_count": 5,
   "metadata": {},
   "outputs": [
    {
     "data": {
      "text/plain": [
       "('gutenberg.txt', <http.client.HTTPMessage at 0x1fd3f4ed670>)"
      ]
     },
     "execution_count": 5,
     "metadata": {},
     "output_type": "execute_result"
    }
   ],
   "source": [
    "# data download from link\n",
    "urllib.request.urlretrieve('http://www.gutenberg.org/files/11/11-0.txt', filename='gutenberg.txt')"
   ]
  },
  {
   "cell_type": "markdown",
   "metadata": {},
   "source": [
    "# Proeprocessing"
   ]
  },
  {
   "cell_type": "code",
   "execution_count": 3,
   "metadata": {},
   "outputs": [
    {
     "name": "stderr",
     "output_type": "stream",
     "text": [
      "3384it [00:00, 846111.76it/s]\n"
     ]
    }
   ],
   "source": [
    "with open('./gutenberg.txt') as file:\n",
    "    sentences = []\n",
    "    for sentence in tqdm(file):\n",
    "        sentence = sentence.strip()\n",
    "        sentence = sentence.lower()\n",
    "        sentence = sentence.encode().decode('ascii', 'ignore')\n",
    "        if len(sentence) > 0:\n",
    "            sentences.append(sentence)"
   ]
  },
  {
   "cell_type": "code",
   "execution_count": 4,
   "metadata": {},
   "outputs": [
    {
     "name": "stdout",
     "output_type": "stream",
     "text": [
      "전체 문자열 길이: 140323\n"
     ]
    }
   ],
   "source": [
    "all_sentences = ' '.join(sentences)\n",
    "print(f'전체 문자열 길이: {len(all_sentences)}')"
   ]
  },
  {
   "cell_type": "code",
   "execution_count": 5,
   "metadata": {},
   "outputs": [
    {
     "name": "stdout",
     "output_type": "stream",
     "text": [
      "vocab의 수: 43\n"
     ]
    }
   ],
   "source": [
    "char_vocab = sorted(list(set(all_sentences)))\n",
    "vocab_size = len(char_vocab)\n",
    "print(f'vocab의 수: {vocab_size}')"
   ]
  },
  {
   "cell_type": "code",
   "execution_count": 6,
   "metadata": {},
   "outputs": [],
   "source": [
    "char_to_index = dict((char, index) for index, char in enumerate(char_vocab))\n",
    "\n",
    "index_to_char = {}\n",
    "for key, value in char_to_index.items():\n",
    "    index_to_char.update({value: key})"
   ]
  },
  {
   "cell_type": "code",
   "execution_count": 7,
   "metadata": {},
   "outputs": [
    {
     "data": {
      "text/plain": [
       "{' ': 0,\n",
       " '!': 1,\n",
       " \"'\": 2,\n",
       " '(': 3,\n",
       " ')': 4,\n",
       " '*': 5,\n",
       " ',': 6,\n",
       " '-': 7,\n",
       " '.': 8,\n",
       " '0': 9,\n",
       " '3': 10,\n",
       " ':': 11,\n",
       " ';': 12,\n",
       " '?': 13,\n",
       " '[': 14,\n",
       " ']': 15,\n",
       " '_': 16,\n",
       " 'a': 17,\n",
       " 'b': 18,\n",
       " 'c': 19,\n",
       " 'd': 20,\n",
       " 'e': 21,\n",
       " 'f': 22,\n",
       " 'g': 23,\n",
       " 'h': 24,\n",
       " 'i': 25,\n",
       " 'j': 26,\n",
       " 'k': 27,\n",
       " 'l': 28,\n",
       " 'm': 29,\n",
       " 'n': 30,\n",
       " 'o': 31,\n",
       " 'p': 32,\n",
       " 'q': 33,\n",
       " 'r': 34,\n",
       " 's': 35,\n",
       " 't': 36,\n",
       " 'u': 37,\n",
       " 'v': 38,\n",
       " 'w': 39,\n",
       " 'x': 40,\n",
       " 'y': 41,\n",
       " 'z': 42}"
      ]
     },
     "execution_count": 7,
     "metadata": {},
     "output_type": "execute_result"
    }
   ],
   "source": [
    "char_to_index"
   ]
  },
  {
   "cell_type": "code",
   "execution_count": 8,
   "metadata": {},
   "outputs": [
    {
     "data": {
      "text/plain": [
       "{0: ' ',\n",
       " 1: '!',\n",
       " 2: \"'\",\n",
       " 3: '(',\n",
       " 4: ')',\n",
       " 5: '*',\n",
       " 6: ',',\n",
       " 7: '-',\n",
       " 8: '.',\n",
       " 9: '0',\n",
       " 10: '3',\n",
       " 11: ':',\n",
       " 12: ';',\n",
       " 13: '?',\n",
       " 14: '[',\n",
       " 15: ']',\n",
       " 16: '_',\n",
       " 17: 'a',\n",
       " 18: 'b',\n",
       " 19: 'c',\n",
       " 20: 'd',\n",
       " 21: 'e',\n",
       " 22: 'f',\n",
       " 23: 'g',\n",
       " 24: 'h',\n",
       " 25: 'i',\n",
       " 26: 'j',\n",
       " 27: 'k',\n",
       " 28: 'l',\n",
       " 29: 'm',\n",
       " 30: 'n',\n",
       " 31: 'o',\n",
       " 32: 'p',\n",
       " 33: 'q',\n",
       " 34: 'r',\n",
       " 35: 's',\n",
       " 36: 't',\n",
       " 37: 'u',\n",
       " 38: 'v',\n",
       " 39: 'w',\n",
       " 40: 'x',\n",
       " 41: 'y',\n",
       " 42: 'z'}"
      ]
     },
     "execution_count": 8,
     "metadata": {},
     "output_type": "execute_result"
    }
   ],
   "source": [
    "index_to_char"
   ]
  },
  {
   "cell_type": "code",
   "execution_count": 9,
   "metadata": {},
   "outputs": [
    {
     "name": "stdout",
     "output_type": "stream",
     "text": [
      "샘플 수: 2338\n"
     ]
    }
   ],
   "source": [
    "seq_len = 60\n",
    "\n",
    "n_samples = int(len(all_sentences) / seq_len)\n",
    "print(f'샘플 수: {n_samples}')"
   ]
  },
  {
   "cell_type": "code",
   "execution_count": 10,
   "metadata": {},
   "outputs": [
    {
     "name": "stderr",
     "output_type": "stream",
     "text": [
      "100%|██████████| 2338/2338 [00:00<00:00, 179839.40it/s]\n"
     ]
    }
   ],
   "source": [
    "data_X = []\n",
    "data_y = []\n",
    "\n",
    "for i in tqdm(range(n_samples)):\n",
    "    temp = all_sentences[i*seq_len:(i+1)*seq_len]\n",
    "\n",
    "    temp_encoded = [char_to_index[char] for char in temp]\n",
    "    data_X.append(temp_encoded)\n",
    "\n",
    "    temp_y = all_sentences[i*seq_len+1:(i+1)*seq_len+1]\n",
    "\n",
    "    temp_encoded_y = [char_to_index[char] for char in temp_y]\n",
    "    data_y.append(temp_encoded_y)\n"
   ]
  },
  {
   "cell_type": "code",
   "execution_count": 11,
   "metadata": {},
   "outputs": [],
   "source": [
    "train_x, train_y = data_X[:1400], data_y[:1400]\n",
    "valid_x, valid_y = data_X[1400:1900], data_y[1400:1900]\n",
    "test_x, test_y = data_X[1900:], data_y[1900:]"
   ]
  },
  {
   "cell_type": "markdown",
   "metadata": {},
   "source": [
    "# Data Module"
   ]
  },
  {
   "cell_type": "code",
   "execution_count": 51,
   "metadata": {},
   "outputs": [],
   "source": [
    "class GutenbergDataset(Dataset):\n",
    "    def __init__(self, X: List[int], y: List[int], vocab_size: int):\n",
    "        self.X = torch.tensor(X, dtype=torch.long)\n",
    "        self.y = torch.tensor(y, dtype=torch.long)\n",
    "        self.vocab_size = vocab_size\n",
    "    \n",
    "    def __len__(self):\n",
    "        return len(self.X)\n",
    "    \n",
    "    def __getitem__(self, index):\n",
    "        X = self.X[index]\n",
    "        y = self.y[index]\n",
    "\n",
    "        return {\n",
    "            'X': F.one_hot(X, num_classes=self.vocab_size),\n",
    "            'y': y,\n",
    "        }"
   ]
  },
  {
   "cell_type": "code",
   "execution_count": 196,
   "metadata": {},
   "outputs": [],
   "source": [
    "class GutenbergDataModule(L.LightningDataModule):\n",
    "    def __init__(self, batch_size: int):\n",
    "        super().__init__()\n",
    "        self.batch_size = batch_size\n",
    "        self.save_hyperparameters()\n",
    "    \n",
    "    def prepare(\n",
    "        self,\n",
    "        train: Dataset,\n",
    "        valid: Dataset,\n",
    "        test: Dataset,\n",
    "        ):\n",
    "        self.train = train\n",
    "        self.valid = valid\n",
    "        self.test = test\n",
    "    \n",
    "    def setup(self, stage: str = None):\n",
    "        if stage == 'fit':\n",
    "            self.train_data = self.train\n",
    "            self.valid_data = self.valid\n",
    "        \n",
    "        if stage == 'test':\n",
    "            self.test_data = self.test\n",
    "    \n",
    "    def train_dataloader(self):\n",
    "        return DataLoader(\n",
    "            dataset=self.train_data,\n",
    "            batch_size=self.batch_size,\n",
    "            shuffle=False,\n",
    "        )\n",
    "\n",
    "    def val_dataloader(self):\n",
    "        return DataLoader(\n",
    "            dataset=self.valid_data,\n",
    "            batch_size=self.batch_size,\n",
    "            shuffle=False,\n",
    "        )\n",
    "\n",
    "    def test_dataloader(self):\n",
    "        return DataLoader(\n",
    "            dataset=self.test_data,\n",
    "            batch_size=self.batch_size,\n",
    "            shuffle=False,\n",
    "        )"
   ]
  },
  {
   "cell_type": "markdown",
   "metadata": {},
   "source": [
    "# LightningModule"
   ]
  },
  {
   "cell_type": "code",
   "execution_count": 197,
   "metadata": {},
   "outputs": [],
   "source": [
    "class GutenbergLightningModule(L.LightningModule):\n",
    "    def __init__(self, input_dim, hidden_dim, vocab_size, learning_rate: float = 2e-5):\n",
    "        super().__init__()\n",
    "        self.input_dim = input_dim\n",
    "        self.hidden_dim = hidden_dim\n",
    "        self.vocab_size = vocab_size\n",
    "        self.learning_rate = learning_rate\n",
    "\n",
    "        self.lstm1 = nn.LSTM(input_dim, hidden_dim, batch_first=True)\n",
    "        self.lstm2 = nn.LSTM(hidden_dim, hidden_dim, batch_first=True)\n",
    "        self.fc = nn.Linear(hidden_dim, vocab_size)\n",
    "\n",
    "        self.save_hyperparameters()\n",
    "\n",
    "    def forward(self, x):       # (batch, seq_len, vocab_size)\n",
    "        x, _ = self.lstm1(x)    # (batch, seq_len, hidden_dim)\n",
    "        x, _ = self.lstm2(x)    # (batch, seq_len, hidden_dim)\n",
    "        x = self.fc(x)          # (batch, seq_len, vocab_size)\n",
    "\n",
    "        return x\n",
    "    \n",
    "    def training_step(self, batch, batch_idx):\n",
    "        X = batch.get('X').float()\n",
    "        y = batch.get('y')\n",
    "\n",
    "        outputs = self(X)   # nn.Sequential([self.lstm1, self.lstm2, self.fc])(X)\n",
    "\n",
    "        outputs = outputs.permute(0, 2, 1)  # (batch, vocab_size, seq_len)\n",
    "        loss = F.cross_entropy(outputs, y)\n",
    "\n",
    "        return loss\n",
    "\n",
    "    def validation_step(self, batch, batch_idx):\n",
    "        X = batch.get('X').float()\n",
    "        y = batch.get('y')\n",
    "\n",
    "        outputs = self(X)\n",
    "\n",
    "        outputs = outputs.permute(0, 2, 1)\n",
    "        loss = F.cross_entropy(outputs, y)\n",
    "\n",
    "        return loss\n",
    "    \n",
    "    def configure_optimizers(self):\n",
    "        return optim.Adam(self.parameters(), lr=self.learning_rate)"
   ]
  },
  {
   "cell_type": "markdown",
   "metadata": {},
   "source": [
    "# Train"
   ]
  },
  {
   "cell_type": "markdown",
   "metadata": {},
   "source": [
    "## Hyperparameters"
   ]
  },
  {
   "cell_type": "code",
   "execution_count": 199,
   "metadata": {},
   "outputs": [],
   "source": [
    "input_dim = len(char_to_index)\n",
    "hidden_dim = 256\n",
    "vocab_size = len(char_to_index)\n",
    "batch_size = 256\n",
    "seq_len = 64"
   ]
  },
  {
   "cell_type": "markdown",
   "metadata": {},
   "source": [
    "## Dataset"
   ]
  },
  {
   "cell_type": "code",
   "execution_count": 200,
   "metadata": {},
   "outputs": [],
   "source": [
    "train_dataset = GutenbergDataset(train_x, train_y, vocab_size)\n",
    "valid_dataset = GutenbergDataset(valid_x, valid_y, vocab_size)\n",
    "test_dataset = GutenbergDataset(test_x, test_y, vocab_size)\n",
    "\n",
    "gutenberg_data_module = GutenbergDataModule(batch_size)\n",
    "gutenberg_data_module.prepare(train_dataset, valid_dataset, test_dataset)"
   ]
  },
  {
   "cell_type": "markdown",
   "metadata": {},
   "source": [
    "## Model"
   ]
  },
  {
   "cell_type": "code",
   "execution_count": 201,
   "metadata": {},
   "outputs": [],
   "source": [
    "model = GutenbergLightningModule(input_dim, hidden_dim, vocab_size)"
   ]
  },
  {
   "cell_type": "markdown",
   "metadata": {},
   "source": [
    "## Train"
   ]
  },
  {
   "cell_type": "code",
   "execution_count": 202,
   "metadata": {},
   "outputs": [
    {
     "name": "stderr",
     "output_type": "stream",
     "text": [
      "GPU available: False, used: False\n",
      "TPU available: False, using: 0 TPU cores\n",
      "HPU available: False, using: 0 HPUs\n",
      "\n",
      "  | Name  | Type   | Params | Mode \n",
      "-----------------------------------------\n",
      "0 | lstm1 | LSTM   | 308 K  | train\n",
      "1 | lstm2 | LSTM   | 526 K  | train\n",
      "2 | fc    | Linear | 11.1 K | train\n",
      "-----------------------------------------\n",
      "845 K     Trainable params\n",
      "0         Non-trainable params\n",
      "845 K     Total params\n",
      "3.382     Total estimated model params size (MB)\n"
     ]
    },
    {
     "data": {
      "application/vnd.jupyter.widget-view+json": {
       "model_id": "a9442ed3949146979f754a8eb1d15201",
       "version_major": 2,
       "version_minor": 0
      },
      "text/plain": [
       "Sanity Checking: |          | 0/? [00:00<?, ?it/s]"
      ]
     },
     "metadata": {},
     "output_type": "display_data"
    },
    {
     "name": "stderr",
     "output_type": "stream",
     "text": [
      "C:\\Users\\MJH\\AppData\\Roaming\\Python\\Python39\\site-packages\\lightning\\pytorch\\trainer\\connectors\\data_connector.py:424: The 'val_dataloader' does not have many workers which may be a bottleneck. Consider increasing the value of the `num_workers` argument` to `num_workers=31` in the `DataLoader` to improve performance.\n",
      "C:\\Users\\MJH\\AppData\\Roaming\\Python\\Python39\\site-packages\\lightning\\pytorch\\trainer\\connectors\\data_connector.py:424: The 'train_dataloader' does not have many workers which may be a bottleneck. Consider increasing the value of the `num_workers` argument` to `num_workers=31` in the `DataLoader` to improve performance.\n",
      "C:\\Users\\MJH\\AppData\\Roaming\\Python\\Python39\\site-packages\\lightning\\pytorch\\loops\\fit_loop.py:298: The number of training batches (6) is smaller than the logging interval Trainer(log_every_n_steps=50). Set a lower value for log_every_n_steps if you want to see logs for the training epoch.\n"
     ]
    },
    {
     "data": {
      "application/vnd.jupyter.widget-view+json": {
       "model_id": "2fd3c754ae8447cab01a41cd836961c1",
       "version_major": 2,
       "version_minor": 0
      },
      "text/plain": [
       "Training: |          | 0/? [00:00<?, ?it/s]"
      ]
     },
     "metadata": {},
     "output_type": "display_data"
    },
    {
     "data": {
      "application/vnd.jupyter.widget-view+json": {
       "model_id": "a6d682d3c252462ea248b326788f56d8",
       "version_major": 2,
       "version_minor": 0
      },
      "text/plain": [
       "Validation: |          | 0/? [00:00<?, ?it/s]"
      ]
     },
     "metadata": {},
     "output_type": "display_data"
    },
    {
     "data": {
      "application/vnd.jupyter.widget-view+json": {
       "model_id": "9889d4e92d64499c983c3c4344d2c188",
       "version_major": 2,
       "version_minor": 0
      },
      "text/plain": [
       "Validation: |          | 0/? [00:00<?, ?it/s]"
      ]
     },
     "metadata": {},
     "output_type": "display_data"
    },
    {
     "data": {
      "application/vnd.jupyter.widget-view+json": {
       "model_id": "46e63568114746febdf1e6279c6ba2c3",
       "version_major": 2,
       "version_minor": 0
      },
      "text/plain": [
       "Validation: |          | 0/? [00:00<?, ?it/s]"
      ]
     },
     "metadata": {},
     "output_type": "display_data"
    },
    {
     "data": {
      "application/vnd.jupyter.widget-view+json": {
       "model_id": "be2258d7282f48e99fd2ef53932c4eed",
       "version_major": 2,
       "version_minor": 0
      },
      "text/plain": [
       "Validation: |          | 0/? [00:00<?, ?it/s]"
      ]
     },
     "metadata": {},
     "output_type": "display_data"
    },
    {
     "data": {
      "application/vnd.jupyter.widget-view+json": {
       "model_id": "18b3643aff924a55b7d1f962e39a7819",
       "version_major": 2,
       "version_minor": 0
      },
      "text/plain": [
       "Validation: |          | 0/? [00:00<?, ?it/s]"
      ]
     },
     "metadata": {},
     "output_type": "display_data"
    },
    {
     "data": {
      "application/vnd.jupyter.widget-view+json": {
       "model_id": "45728b1e7aaf4736a4a2fdae1c1fe6ef",
       "version_major": 2,
       "version_minor": 0
      },
      "text/plain": [
       "Validation: |          | 0/? [00:00<?, ?it/s]"
      ]
     },
     "metadata": {},
     "output_type": "display_data"
    },
    {
     "data": {
      "application/vnd.jupyter.widget-view+json": {
       "model_id": "1474db9a6fd245b8b9653387ee6fa3a1",
       "version_major": 2,
       "version_minor": 0
      },
      "text/plain": [
       "Validation: |          | 0/? [00:00<?, ?it/s]"
      ]
     },
     "metadata": {},
     "output_type": "display_data"
    },
    {
     "data": {
      "application/vnd.jupyter.widget-view+json": {
       "model_id": "0ede8226a02d4d54804e78247f6d814c",
       "version_major": 2,
       "version_minor": 0
      },
      "text/plain": [
       "Validation: |          | 0/? [00:00<?, ?it/s]"
      ]
     },
     "metadata": {},
     "output_type": "display_data"
    },
    {
     "data": {
      "application/vnd.jupyter.widget-view+json": {
       "model_id": "3ee63799204f4497b4c5465180cabbd9",
       "version_major": 2,
       "version_minor": 0
      },
      "text/plain": [
       "Validation: |          | 0/? [00:00<?, ?it/s]"
      ]
     },
     "metadata": {},
     "output_type": "display_data"
    },
    {
     "data": {
      "application/vnd.jupyter.widget-view+json": {
       "model_id": "cc3c59f874a941d8949acdfbf6d622a9",
       "version_major": 2,
       "version_minor": 0
      },
      "text/plain": [
       "Validation: |          | 0/? [00:00<?, ?it/s]"
      ]
     },
     "metadata": {},
     "output_type": "display_data"
    },
    {
     "name": "stderr",
     "output_type": "stream",
     "text": [
      "`Trainer.fit` stopped: `max_epochs=10` reached.\n"
     ]
    }
   ],
   "source": [
    "trainer = L.Trainer(max_epochs=10)\n",
    "trainer.fit(\n",
    "    model=model,\n",
    "    datamodule=gutenberg_data_module,\n",
    ")"
   ]
  },
  {
   "cell_type": "markdown",
   "metadata": {},
   "source": [
    "# Generation"
   ]
  },
  {
   "cell_type": "code",
   "execution_count": 203,
   "metadata": {},
   "outputs": [],
   "source": [
    "def generate_sentence(model: L.LightningModule, max_length: int, vocab_size: int = vocab_size):\n",
    "    idx = [np.random.randint(vocab_size)]\n",
    "\n",
    "    sentences = [index_to_char.get(idx[-1])]\n",
    "    print(f'{idx[-1]}번 문자 {sentences[-1]}로 예측 시작')\n",
    "\n",
    "    X = torch.zeros((1, max_length, vocab_size))\n",
    "\n",
    "    with torch.no_grad():\n",
    "        for i in range(max_length):\n",
    "            X[0][i][idx] = 1\n",
    "            idx = model(X[:, :i+1, :])[0].argmax(axis=-1)\n",
    "            idx = idx[-1].item()\n",
    "            sentences.append(index_to_char.get(idx))\n",
    "    \n",
    "    return ''.join(sentences)"
   ]
  },
  {
   "cell_type": "code",
   "execution_count": 215,
   "metadata": {},
   "outputs": [
    {
     "name": "stdout",
     "output_type": "stream",
     "text": [
      "8번 문자 .로 예측 시작\n"
     ]
    },
    {
     "data": {
      "text/plain": [
       "'.**                                                          '"
      ]
     },
     "execution_count": 215,
     "metadata": {},
     "output_type": "execute_result"
    }
   ],
   "source": [
    "generate_sentence(model, 60)"
   ]
  }
 ],
 "metadata": {
  "kernelspec": {
   "display_name": "base",
   "language": "python",
   "name": "python3"
  },
  "language_info": {
   "codemirror_mode": {
    "name": "ipython",
    "version": 3
   },
   "file_extension": ".py",
   "mimetype": "text/x-python",
   "name": "python",
   "nbconvert_exporter": "python",
   "pygments_lexer": "ipython3",
   "version": "3.9.18"
  }
 },
 "nbformat": 4,
 "nbformat_minor": 2
}
